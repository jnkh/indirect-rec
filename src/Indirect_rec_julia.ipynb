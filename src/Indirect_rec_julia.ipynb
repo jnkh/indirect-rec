{
 "cells": [
  {
   "cell_type": "code",
   "execution_count": 1,
   "metadata": {
    "collapsed": false
   },
   "outputs": [],
   "source": [
    "push!(LOAD_PATH, pwd())\n",
    "using LightGraphs, IndirectRec, GraphConnectivityTheory,GraphCreation\n",
    "using PyCall, PyPlot, Distributions"
   ]
  },
  {
   "cell_type": "markdown",
   "metadata": {},
   "source": [
    "# Average critical threshold"
   ]
  },
  {
   "cell_type": "code",
   "execution_count": null,
   "metadata": {
    "collapsed": false
   },
   "outputs": [],
   "source": [
    "N = 100\n",
    "p = 0.2\n",
    "graph_type_range = [:erdos_renyi,:watts_strogatz,:powerlaw_cluster]\n",
    "k_ideal_range = collect(5:5:40)\n",
    "p_know_range = zeros((length(k_ideal_range),length(graph_type_range)))\n",
    "p_know_range_th = similar(p_know_range)\n",
    "p_know_range_perc = similar(p_know_range)\n",
    "k_range = similar(p_know_range)\n",
    "p_known_fn = (x,y) -> get_p_known_first_order(x,y,p)\n",
    "for (j,graph_type) in enumerate(graph_type_range)\n",
    "    for (i,k) in enumerate(k_ideal_range)\n",
    "        g = create_graph(N,k,graph_type)\n",
    "        k_range[i,j] = 2*LightGraphs.ne(g)/LightGraphs.nv(g)\n",
    "        p_know_range[i,j] = get_mean_p_known_on_node_for_graph(g, p_known_fn)\n",
    "        p_know_range_th[i,j] = get_p_known_first_order_theory(g, p)\n",
    "        p_know_range_perc[i,j] = get_p_known_percolation(g,p)[end]\n",
    "    end\n",
    "end"
   ]
  },
  {
   "cell_type": "code",
   "execution_count": null,
   "metadata": {
    "collapsed": false
   },
   "outputs": [],
   "source": [
    "using PyPlot\n",
    "colors_arr = [\"b\",\"r\",\"g\"]\n",
    "linestyle_arr = [\"-o\",\"-^\",\"-s\"]\n",
    "for (j,graph_type) in enumerate(graph_type_range)\n",
    "    plot(k_range[:,j],1./p_know_range[:,j],linestyle_arr[j],color=colors_arr[j])\n",
    "    plot(k_range[:,j],1./p_know_range_th[:,j],color=colors_arr[j],linestyle=\"--\")\n",
    "    plot(k_range[:,j],1./p_know_range_perc[:,j],color=colors_arr[j],linestyle=\"-\")\n",
    "end\n",
    "ylabel(L\"$\\left(\\frac{b}{c}\\right)^*$\",size=20)\n",
    "xlabel(L\"$k$\",size=20)\n",
    "grid()\n"
   ]
  },
  {
   "cell_type": "markdown",
   "metadata": {},
   "source": [
    "# Higher Order Gossip and Percolation Theory"
   ]
  },
  {
   "cell_type": "markdown",
   "metadata": {},
   "source": [
    "We can give a theoretical description of the average value of $p_{known}$ for a node on an erdos-renyi random graph. Each edge exists with probility $p_{edge} = \\frac{k}{N-1}$. Now, we sample each edge existing with probability $p$. Thus in the sample, each edges exists with probability $$p \\frac{k}{N-1}$$. The percolation probability on this graph is\n",
    "$$P_{percolate,gnp}(N,p p_{edge})$$\n",
    "\n",
    "This percolation probability is made up of two distinct events. The event where two randomly picked nodes are connected by a direct edge, and the event where those two nodes are not connected by a direct edge, but instead by some longer path. We can thus write\n",
    "\n",
    "$$P_{percolate,gnp}(N,p p_{edge}) = p p_{edge} + (1 - p p_{edge}) p_{longer path}$$\n",
    "or\n",
    "$$p_{longer path} = \\frac{P_{percolate,gnp}(N,p p_{edge}) - p p_{edge}}{1 - p p_{edge}}$$\n",
    "\n",
    "Now, we are picking only edges that already exist in the graph before, so the probability that the two nodes are connected by a direct edge is $p$ and not $p p_{edge}$. Thus, we obtain\n",
    "$$p_{known} = p + (1-p) p_{longer path} = p + (1-p) \\frac{P_{percolate,gnp}(N,p p_{edge}) - p p_{edge}}{1 - p p_{edge}} $$\n",
    "\n",
    "$P_{percolate}$ is given by the 2 terminal reliability function.\n"
   ]
  },
  {
   "cell_type": "markdown",
   "metadata": {},
   "source": [
    "## Plotting theory calculations of p_known"
   ]
  },
  {
   "cell_type": "code",
   "execution_count": null,
   "metadata": {
    "collapsed": false
   },
   "outputs": [],
   "source": [
    "p_range = 0.0:0.05:1.0\n",
    "n_range = 0:1:20\n",
    "num_trials = 1000\n",
    "# p_known_th_arr = [get_p_known_nth_order_theory(g,p,n) for n in n_range, p in p_range]\n",
    "# p_known_perc_arr = [get_p_known_percolation(g,p,num_trials)[end] for p in p_range]\n",
    "# p_known_perc_th_arr = [get_p_known_percolation_theory(g,p) for p in p_range]\n",
    "# p_known_perc_cutoff_arr = [get_p_known_percolation(g,p,n,num_trials)[end] for n in n_range, p in p_range]\n",
    "\n",
    "# surf(p_range,n_range,p_known_th_arr,cstride=1,rstride=1)\n",
    "# gca()[:view_init](elev=30,azim=-150)\n",
    "# xlabel(L\"p\")\n",
    "# ylabel(L\"order\")\n",
    "# figure()\n",
    "plot(p_range,p_known_th_arr[1,:]',label=\"paths theory 1\",\"-.\")\n",
    "plot(p_range,p_known_th_arr[2,:]',label=\"paths theory 2\",\"-.\")\n",
    "for n in [1,2,3,6,10,20]\n",
    "    plot(p_range,p_known_perc_cutoff_arr[n,:]',label=\"percolation MC, order $(n-1)\",\"--\")\n",
    "end\n",
    "\n",
    "plot(p_range,p_known_perc_arr,label=\"percolation MC\")\n",
    "plot(p_range,p_known_perc_th_arr,label=\"reliability theory\")\n",
    "\n",
    "#plot(p_range,p_range)\n",
    "legend(loc = \"lower right\")"
   ]
  },
  {
   "cell_type": "code",
   "execution_count": 2,
   "metadata": {
    "collapsed": false
   },
   "outputs": [
    {
     "ename": "LoadError",
     "evalue": "LoadError: InterruptException:\nwhile loading In[2], in expression starting on line 15",
     "output_type": "error",
     "traceback": [
      "LoadError: InterruptException:\nwhile loading In[2], in expression starting on line 15",
      "",
      " in dijkstra_shortest_paths at /Users/julian/.julia/v0.4/LightGraphs/src/shortestpaths/dijkstra.jl:51",
      " in dijkstra_shortest_paths at /Users/julian/.julia/v0.4/LightGraphs/src/shortestpaths/dijkstra.jl:90",
      " in dijkstra_all_sources_shortest_paths at /Users/julian/Dropbox/ubuntu_home/Harvard/research/nowak/indirect_rec/src/IndirectRec.jl:188",
      " in get_p_known_percolation at /Users/julian/Dropbox/ubuntu_home/Harvard/research/nowak/indirect_rec/src/IndirectRec.jl:178",
      " [inlined code] from In[2]:24",
      " in anonymous at no file:0"
     ]
    }
   ],
   "source": [
    "N = 100\n",
    "p = 0.2\n",
    "num_trials = 500\n",
    "graph_type_range = [:erdos_renyi,:watts_strogatz,:powerlaw_cluster]\n",
    "graph_name_range = [\"erdos renyi\", \"watts strogatz\", \"powerlaw cluster\"]\n",
    "n_range = [1,2,3,5,7,100]\n",
    "k_ideal_range = collect(2:2:48)\n",
    "p_know_range_th = zeros((length(k_ideal_range),length(graph_type_range)))\n",
    "p_know_range = similar(p_know_range_th)\n",
    "p_know_range_th2 = similar(p_know_range_th)\n",
    "p_know_range_perc_th = similar(p_know_range_th)\n",
    "p_know_range_perc_order = zeros((length(k_ideal_range),length(graph_type_range),length(n_range)))\n",
    "k_range = similar(p_know_range_th)\n",
    "p_known_fn = (x,y) -> get_p_known_first_order(x,y,p)\n",
    "for (j,graph_type) in enumerate(graph_type_range)\n",
    "    for (i,k) in enumerate(k_ideal_range)\n",
    "        g = create_graph(N,k,graph_type)\n",
    "        k_range[i,j] = 2*LightGraphs.ne(g)/LightGraphs.nv(g)\n",
    "#         p_know_range[i,j] = get_mean_p_known_on_node_for_graph(g, p_known_fn)\n",
    "#         p_know_range_th[i,j] = get_p_known_first_order_theory(g, p)\n",
    "#         p_know_range_th2[i,j] = get_p_known_second_order_theory(g, p)\n",
    "        p_know_range_perc_th[i,j] = get_p_known_percolation_theory(g,p)\n",
    "        for (l,n) in enumerate(n_range)\n",
    "            p_know_range_perc_order[i,j,l] = get_p_known_percolation(g,p,n,num_trials)[end]\n",
    "        end\n",
    "    end\n",
    "end"
   ]
  },
  {
   "cell_type": "code",
   "execution_count": null,
   "metadata": {
    "collapsed": false
   },
   "outputs": [],
   "source": [
    "g = create_graph(100,10,:erdos_renyi)\n",
    "state = LightGraphs.dijkstra_shortest_paths(g,[1,2])\n",
    "vertices(g)"
   ]
  },
  {
   "cell_type": "code",
   "execution_count": null,
   "metadata": {
    "collapsed": false,
    "scrolled": true
   },
   "outputs": [],
   "source": [
    "graph_name_range = [\"erdos renyi\", \"watts strogatz\", \"powerlaw cluster\"]\n",
    "colors_arr = [\"b\",\"r\",\"g\"]\n",
    "linestyle_arr = [\"-p\",\"-^\",\"-s\",\"-o\",\"-D\"]\n",
    "for (j,graph_type) in enumerate(graph_type_range)\n",
    "    figure(j)\n",
    "    plot(k_range[:,j],1./p_know_range_perc_th[:,j],\"--\",color=\"k\",label=\"percolation theory, $(graph_name_range[j])\")\n",
    "    for (l,n) in enumerate(n_range[1:end])\n",
    "    #plot(k_range[:,j],1./p_know_range[:,j],linestyle_arr[j],color=colors_arr[j],linestyle=linestyle_arr[j])\n",
    "    #plot(k_range[:,j],1./p_know_range_th[:,j],linestyle_arr[j],color=colors_arr[j])\n",
    "        if true#j == 1 || l == 1\n",
    "            label = latexstring(\"percolation order \\$$n\\$, $(graph_name_range[j])\")\n",
    "        else\n",
    "            label = \"\"\n",
    "        end\n",
    "        plot(k_range[:,j],1./p_know_range_perc_order[:,j,l],linestyle_arr[1 + (l % length(linestyle_arr))],color=colors_arr[j],label=label)\n",
    "    end\n",
    "    ylabel(L\"$\\left(\\frac{b}{c}\\right)^*$\",size=20)\n",
    "    xlabel(L\"$k$\",size=20)\n",
    "    grid()\n",
    "    legend(prop={\"size\"=>10},loc=\"center right\")\n",
    "    savefig(\"../figures/b_c_critical_vs_k_p0.2_N100_percolation_orders_$(graph_name_range[j]).png\")\n",
    "end\n",
    "\n"
   ]
  },
  {
   "cell_type": "markdown",
   "metadata": {},
   "source": [
    "## Monte Carlo calculation of p_known"
   ]
  },
  {
   "cell_type": "code",
   "execution_count": null,
   "metadata": {
    "collapsed": false
   },
   "outputs": [],
   "source": [
    "N = 50\n",
    "p_edge = 0.2\n",
    "p = 0.1\n",
    "num_trials = 10\n",
    "println(get_p_known_percolation_erdos_renyi(N,p_edge,p,num_trials))\n",
    "println(get_p_known_percolation_theory(N,p_edge,p))"
   ]
  },
  {
   "cell_type": "code",
   "execution_count": null,
   "metadata": {
    "collapsed": false
   },
   "outputs": [],
   "source": [
    "N = 50\n",
    "p_edge = 0.9\n",
    "p = 0.90\n",
    "\n",
    "num_trials = 10\n",
    "\n",
    "\n",
    "p_edge_range = collect(0:0.1:1)\n",
    "p_range = collect(0:0.1:1)\n",
    "\n",
    "p_known_perc_exp_arr = zeros((length(p_edge_range),length(p_range)))\n",
    "p_known_perc_th_arr = similar(p_known_perc_exp_arr)\n",
    "\n",
    "for (i,p) in enumerate(p_range)\n",
    "    for (j,p_edge) in enumerate(p_edge_range)\n",
    "        p_known_perc_exp_arr[j,i] = get_p_known_percolation_erdos_renyi(N,p_edge,p,num_trials)\n",
    "        p_known_perc_th_arr[j,i] = get_p_known_percolation_theory(N,p_edge,p)\n",
    "    end\n",
    "end\n",
    "        \n",
    "#println(get_p_known_percolation_erdos_renyi(N,p_edge,p,num_trials))\n",
    "\n",
    "#println(get_p_known_percolation_theory(N,p_edge,p))\n",
    "#@time println(get_mean_p_known_on_node_for_graph(gg,(x,y) -> get_p_known_percolation(x,y,p,num_trials)))\n"
   ]
  },
  {
   "cell_type": "code",
   "execution_count": null,
   "metadata": {
    "collapsed": false
   },
   "outputs": [],
   "source": [
    "figure()\n",
    "surf(p_edge_range,p_range,(p_known_perc_exp_arr-p_known_perc_th_arr)./p_known_perc_exp_arr,cstride=1,rstride=1,alpha=0.4,color=\"r\")\n",
    "surf(p_edge_range,p_range,p_known_perc_th_arr,cstride=1,rstride=1,alpha=0.4)\n",
    "gca()[:view_init](elev=30,azim=210)\n",
    "xlabel(L\"$p_{edge}$\")\n",
    "ylabel(L\"$p$\")\n"
   ]
  },
  {
   "cell_type": "code",
   "execution_count": null,
   "metadata": {
    "collapsed": false
   },
   "outputs": [],
   "source": [
    "function get_p_known_percolation_erdos_renyi(N,p_edge,p,num_trials)\n",
    "    graph_trials = 100\n",
    "    p_known = 0\n",
    "    for i = 1:graph_trials\n",
    "        g = LightGraphs.erdos_renyi(N,p_edge)\n",
    "        p_known += get_p_known_percolation(g,p,num_trials)[end]\n",
    "    end\n",
    "    return p_known / graph_trials\n",
    "end"
   ]
  },
  {
   "cell_type": "markdown",
   "metadata": {},
   "source": [
    "# Plotting of distribution over nodes"
   ]
  },
  {
   "cell_type": "code",
   "execution_count": null,
   "metadata": {
    "collapsed": false
   },
   "outputs": [],
   "source": [
    "unshift!(PyVector(pyimport(\"sys\")[\"path\"]), \"\")\n",
    "@pyimport graph_reciprocity as gr\n",
    "@pyimport networkx as nx"
   ]
  },
  {
   "cell_type": "code",
   "execution_count": null,
   "metadata": {
    "collapsed": true
   },
   "outputs": [],
   "source": [
    "gr.plot_histograms(all_thresholds,p)\n",
    "plot_colored_graphs(graph_fns,all_graphs,all_thresholds,all_degrees,graph_names,p)"
   ]
  },
  {
   "cell_type": "code",
   "execution_count": 3,
   "metadata": {
    "collapsed": false
   },
   "outputs": [
    {
     "ename": "LoadError",
     "evalue": "LoadError: InterruptException:\nwhile loading In[3], in expression starting on line 17",
     "output_type": "error",
     "traceback": [
      "LoadError: InterruptException:\nwhile loading In[3], in expression starting on line 17",
      "",
      " in pop! at array.jl:485",
      " in heappop! at collections.jl:68",
      " in dijkstra_shortest_paths at /Users/julian/.julia/v0.4/LightGraphs/src/shortestpaths/dijkstra.jl:48",
      " in dijkstra_shortest_paths at /Users/julian/.julia/v0.4/LightGraphs/src/shortestpaths/dijkstra.jl:90",
      " in dijkstra_all_sources_shortest_paths at /Users/julian/Dropbox/ubuntu_home/Harvard/research/nowak/indirect_rec/src/IndirectRec.jl:188",
      " in get_p_known_percolation at /Users/julian/Dropbox/ubuntu_home/Harvard/research/nowak/indirect_rec/src/IndirectRec.jl:178",
      " [inlined code] from In[3]:25",
      " in anonymous at no file:0"
     ]
    }
   ],
   "source": [
    "using JLD\n",
    "\n",
    "##facebook: N = 4040, k = 44\n",
    "N = 1000\n",
    "p = 0.4\n",
    "num_trials = 100\n",
    "num_trials_perc = 200\n",
    "graph_type_range = [:erdos_renyi,:watts_strogatz,:powerlaw_cluster,:fb]\n",
    "graph_name_range = [\"erdos renyi\", \"watts strogatz\", \"powerlaw cluster\", \"facebook\"]\n",
    "n_range = [2,7] \n",
    "k = 7\n",
    "\n",
    "#histogram data\n",
    "hist_all_degrees = Array(Array{Any,1},(length(n_range),length(graph_type_range)))\n",
    "hist_all_thresholds = Array(Array{Any,1},(length(n_range),length(graph_type_range)))\n",
    "hist_all_clustering= Array(Array{Any,1},(length(n_range),length(graph_type_range)))\n",
    "for (i,n) in enumerate(n_range)\n",
    "    for (j,graph_type) in enumerate(graph_type_range)\n",
    "        num_trials_curr = graph_type == :fb ? 1 : num_trials\n",
    "        hist_all_thresholds[i,j] = Any[]\n",
    "        hist_all_degrees[i,j] = Any[]\n",
    "        hist_all_clustering[i,j] = Any[]\n",
    "        for l = 1:num_trials_curr\n",
    "            g = create_graph(N,k,graph_type)\n",
    "            p_knowns = get_p_known_percolation(g,p,n,num_trials_perc)[1]\n",
    "    #         p_knowns = p_knowns[p_knowns .> 0.0]\n",
    "            hist_all_degrees[i,j] = vcat(hist_all_degrees[i,j],LightGraphs.degree(g))\n",
    "            hist_all_thresholds[i,j] = vcat(hist_all_thresholds[i,j],p_knowns)\n",
    "            hist_all_clustering[i,j] = vcat(hist_all_clustering[i,j],LightGraphs.local_clustering_coefficient(g))\n",
    "        end\n",
    "\n",
    "    end\n",
    "end\n",
    "\n",
    "save(\"../data/per_node_data/N_$(N)_$(now).jld\",\"hist_all_degrees\",hist_all_degrees,\n",
    "\"hist_all_thresholds\",hist_all_thresholds,\"hist_all_clustering\",hist_all_clustering)\n"
   ]
  },
  {
   "cell_type": "code",
   "execution_count": null,
   "metadata": {
    "collapsed": false
   },
   "outputs": [],
   "source": [
    "2*ne(g)/nv(g)"
   ]
  },
  {
   "cell_type": "code",
   "execution_count": null,
   "metadata": {
    "collapsed": false
   },
   "outputs": [],
   "source": [
    "g = create_graph(1,1,:fb)"
   ]
  },
  {
   "cell_type": "code",
   "execution_count": null,
   "metadata": {
    "collapsed": false
   },
   "outputs": [],
   "source": [
    "@time p_knowns = get_p_known_percolation(g,0.4,2,1)[1]"
   ]
  },
  {
   "cell_type": "code",
   "execution_count": null,
   "metadata": {
    "collapsed": false
   },
   "outputs": [],
   "source": [
    "N = 100\n",
    "p = 0.4\n",
    "num_trials = 10\n",
    "num_trials_perc = 100\n",
    "graph_type_range = [:erdos_renyi,:watts_strogatz,:powerlaw_cluster]\n",
    "graph_name_range = [\"erdos renyi\", \"watts strogatz\", \"powerlaw cluster\"]\n",
    "n = 2 #[1,5] \n",
    "k = 5\n",
    "all_graphs = Array(Any,length(graph_type_range))\n",
    "all_degrees = Array(Any,length(graph_type_range))\n",
    "all_thresholds = Array(Array{Any,1},length(graph_type_range))\n",
    "for (j,graph_type) in enumerate(graph_type_range)\n",
    "    g = create_graph(N,k,graph_type)\n",
    "    p_knowns = get_p_known_percolation(g,p,n,num_trials_perc)[1]\n",
    "\n",
    "    all_graphs[j] = make_networkx_graph_from_lightgraph(g)\n",
    "    all_degrees[j] = LightGraphs.degree(g)\n",
    "    all_thresholds[j] = p_knowns\n",
    "    #     p_knowns = p_knowns[p_knowns .> 0.0]\n",
    "end"
   ]
  },
  {
   "cell_type": "code",
   "execution_count": null,
   "metadata": {
    "collapsed": false
   },
   "outputs": [],
   "source": [
    "gr.plot_histograms(hist_all_thresholds,p)#,N)"
   ]
  },
  {
   "cell_type": "code",
   "execution_count": null,
   "metadata": {
    "collapsed": false
   },
   "outputs": [],
   "source": [
    "gr.plot_colored_graphs(all_graphs,all_thresholds,all_degrees,graph_name_range,p)"
   ]
  },
  {
   "cell_type": "code",
   "execution_count": null,
   "metadata": {
    "collapsed": false
   },
   "outputs": [],
   "source": [
    "fig = figure()\n",
    "scatter(hist_all_degrees[3],hist_all_thresholds[3])\n",
    "fig[:canvas][:draw]()\n",
    "show()"
   ]
  },
  {
   "cell_type": "code",
   "execution_count": null,
   "metadata": {
    "collapsed": false
   },
   "outputs": [],
   "source": [
    "@pyimport seaborn as sns"
   ]
  },
  {
   "cell_type": "code",
   "execution_count": null,
   "metadata": {
    "collapsed": false
   },
   "outputs": [],
   "source": [
    "#PyPlot.figure()\n",
    "#PyPlot.plot([1,2,3],[1,2,3])\n",
    "#PyPlot.show()\n",
    "f, axes = subplots(2, 3, figsize=(6, 6), sharex=true, sharey=true)\n",
    "for (i,n) in enumerate(n_range)\n",
    "    for (j,graph_type) in enumerate(graph_type_range)\n",
    "        ax = axes[i,j]\n",
    "        ax[:scatter](convert(Array{Float64,1},hist_all_degrees[i,j]),convert(Array{Float64,1},hist_all_thresholds[i,j]))\n",
    "        sns.kdeplot(convert(Array{Float64,1},hist_all_degrees[i,j]),convert(Array{Float64,1},hist_all_thresholds[i,j]),ax=ax)\n",
    "\n",
    "        ax[:set_xlabel](\"degree\")\n",
    "        ax[:set_ylabel](L\"$p_{known}$\")\n",
    "        ax[:set](xlim=(0, 30))\n",
    "        ax[:set_title](latexstring(\"order \\$= $n\\$, $(graph_name_range[j])\"),size=10)\n",
    "\n",
    "    end\n",
    "end\n",
    "#savefig()\n",
    "#show()"
   ]
  },
  {
   "cell_type": "code",
   "execution_count": null,
   "metadata": {
    "collapsed": false
   },
   "outputs": [],
   "source": [
    "#PyPlot.figure()\n",
    "#PyPlot.plot([1,2,3],[1,2,3])\n",
    "#PyPlot.show()\n",
    "f, axes = subplots(2, 3, figsize=(6, 6), sharex=true, sharey=true)\n",
    "for (i,n) in enumerate(n_range)\n",
    "    for (j,graph_type) in enumerate(graph_type_range)\n",
    "        ax = axes[i,j]\n",
    "        ax[:scatter](convert(Array{Float64,1},hist_all_clustering[i,j]),convert(Array{Float64,1},hist_all_thresholds[i,j]))\n",
    "        sns.kdeplot(convert(Array{Float64,1},hist_all_clustering[i,j]),convert(Array{Float64,1},hist_all_thresholds[i,j]),ax=ax)\n",
    "\n",
    "        ax[:set_xlabel](\"clustering coefficient\")\n",
    "        ax[:set_ylabel](L\"$P$\")\n",
    "        ax[:set_title](latexstring(\"order \\$= $n\\$, $(graph_name_range[j])\"),size=10)\n",
    "    end\n",
    "end\n",
    "\n",
    "#show()"
   ]
  },
  {
   "cell_type": "code",
   "execution_count": null,
   "metadata": {
    "collapsed": false
   },
   "outputs": [],
   "source": [
    "f, axes = subplots(2, 3, figsize=(6, 6), sharex=true, sharey=true)\n",
    "for (i,n) in enumerate(n_range)\n",
    "    for (j,graph_type) in enumerate(graph_type_range)\n",
    "        ax = axes[i,j]\n",
    "        ax[:scatter](convert(Array{Float64,1},hist_all_degrees[i,j]),convert(Array{Float64,1},hist_all_clustering[i,j]))\n",
    "        sns.kdeplot(convert(Array{Float64,1},hist_all_degrees[i,j]),convert(Array{Float64,1},hist_all_clustering[i,j]),ax=ax)\n",
    "\n",
    "        ax[:set_xlabel](\"degree\")\n",
    "        ax[:set_ylabel](L\"$clustering coefficient$\")\n",
    "        ax[:set_title](latexstring(\"order \\$= $n\\$, $(graph_name_range[j])\"),size=10)\n",
    "    end\n",
    "end\n"
   ]
  },
  {
   "cell_type": "code",
   "execution_count": null,
   "metadata": {
    "collapsed": false
   },
   "outputs": [],
   "source": [
    "gg = sns.jointplot(convert(Array{Float64,1},hist_all_degrees[2,3]),convert(Array{Float64,1},hist_all_thresholds[2,3]),kind=\"kdeplot\")\n",
    "gg[:ax_joint][:hold](1)\n",
    "gg[:ax_joint][:scatter](hist_all_degrees[2,3],hist_all_thresholds[2,3],alpha=0.4)\n",
    "gg[:ax_joint][:set_xlabel](\"degree\")\n",
    "gg[:ax_joint][:set_ylabel](L\"p_{known}\")\n",
    "savefig(\"../figures/degree_p_known_correlation_order5_powerlaw_cluster\")"
   ]
  },
  {
   "cell_type": "code",
   "execution_count": null,
   "metadata": {
    "collapsed": false
   },
   "outputs": [],
   "source": [
    "gg = sns.jointplot(convert(Array{Float64,1},hist_all_clustering[2,2]),convert(Array{Float64,1},hist_all_thresholds[2,2]),kind=\"kdeplot\")\n",
    "gg[:ax_joint][:hold](1)\n",
    "gg[:ax_joint][:scatter](hist_all_clustering[2,2],hist_all_thresholds[2,2])\n",
    "gg[:ax_joint][:set_xlabel](\"degree\")\n",
    "gg[:ax_joint][:set_ylabel](L\"p_{known}\")\n",
    "savefig(\"../figures/clustering_p_known_correlation\")"
   ]
  },
  {
   "cell_type": "code",
   "execution_count": null,
   "metadata": {
    "collapsed": false
   },
   "outputs": [],
   "source": [
    "\n",
    "sns.jointplot(randn(10000),randn(10000))"
   ]
  },
  {
   "cell_type": "code",
   "execution_count": null,
   "metadata": {
    "collapsed": false
   },
   "outputs": [],
   "source": [
    "#set_backend(\"TkAgg\")\n",
    "#show()\n",
    "plt[:plot]([1,2,3],[1,2,3])\n",
    "plt[:show]()"
   ]
  },
  {
   "cell_type": "markdown",
   "metadata": {},
   "source": [
    "# Speed Test"
   ]
  },
  {
   "cell_type": "code",
   "execution_count": null,
   "metadata": {
    "collapsed": false
   },
   "outputs": [],
   "source": [
    "\n",
    "\n",
    "\n",
    "N = 500\n",
    "p_edge = 0.1\n",
    "#g = LightGraphs.erdos_renyi(N,p_edge)\n",
    "g = powerlaw_cluster_graph(N,Int(round((N-1)*p_edge)),0.5)\n",
    "#g = LightGraphs.random_regular_graph(N,Int(round((N-1)*p_edge)))\n",
    "#g = LightGraphs.watts_strogatz(N,Int(round((N-1)*p_edge)),0.1)\n",
    "p = 0.2\n",
    "@show get_mean_p_known_on_edge_for_graph(g,(x,y) -> get_p_known_first_order(x,y,p))\n",
    "@show get_mean_p_known_on_node_for_graph(g, (x,y) -> get_p_known_first_order(x,y,p))"
   ]
  },
  {
   "cell_type": "code",
   "execution_count": null,
   "metadata": {
    "collapsed": false
   },
   "outputs": [],
   "source": [
    "function ave(p_known_fn)\n",
    "    N = 1000\n",
    "    p_edge = 0.1\n",
    "    g = LightGraphs.erdos_renyi(N,p_edge)\n",
    "    p_known = 0\n",
    "    for v in LightGraphs.vertices(g)\n",
    "        p_known += get_mean_p_known_for_node(g,v, (x,y) -> p_known_fn(x,y,p))\n",
    "    end\n",
    "    p_known /= length(LightGraphs.vertices(g))\n",
    "end"
   ]
  },
  {
   "cell_type": "code",
   "execution_count": null,
   "metadata": {
    "collapsed": false
   },
   "outputs": [],
   "source": [
    "#Profile.clear()\n",
    "@time ave(get_p_known_first_order)\n",
    "@time ave(get_p_known_zeroth_order)\n"
   ]
  },
  {
   "cell_type": "code",
   "execution_count": null,
   "metadata": {
    "collapsed": false,
    "scrolled": true
   },
   "outputs": [],
   "source": [
    "Profile.print()"
   ]
  },
  {
   "cell_type": "code",
   "execution_count": null,
   "metadata": {
    "collapsed": false
   },
   "outputs": [],
   "source": [
    "\n",
    "@less mapreduce_sc_impl(1)"
   ]
  },
  {
   "cell_type": "code",
   "execution_count": null,
   "metadata": {
    "collapsed": false
   },
   "outputs": [],
   "source": [
    "N = 400\n",
    "a = Array(1:N)\n",
    "b = Array(1+N:2*N)\n",
    "#intersection_length(a,b) == length(intersect(a,b))\n",
    "#@time length(intersect(a,a))\n",
    "@time intersection_length(a,b)\n",
    "@time intersection_length_it(a,b)"
   ]
  },
  {
   "cell_type": "markdown",
   "metadata": {},
   "source": [
    "## TODO"
   ]
  },
  {
   "cell_type": "markdown",
   "metadata": {
    "collapsed": false
   },
   "source": [
    "\n",
    "### Sample real world graphs using a graph generator for arbitrary degree distributions.\n",
    "\n",
    "### make figure of different order $P$, one figure for each graph type.\n",
    "\n",
    "### Perform the analysis for the real world graph as the final figure of the paper."
   ]
  },
  {
   "cell_type": "markdown",
   "metadata": {},
   "source": [
    "## Key Points\n",
    "\n",
    "- The percolation theory calculation matches the monte carlo calculation\n",
    "- for short-lived gossip (low transmission length, small p), the structure matters, otherwise it doesn't much\n",
    "- social graphs (clustering, small world) increase $p_known$ and thus cooperation\n",
    "- Nodes with high local clustering people with tight-knit groups have high incentive to cooperate\n",
    "- Nodes with high connectivity (people with many friends) have high incentive to cooperate"
   ]
  },
  {
   "cell_type": "code",
   "execution_count": null,
   "metadata": {
    "collapsed": true
   },
   "outputs": [],
   "source": [
    "#function intersection_length(a::Array{Int,1},b::Array{Int,1})\n",
    "#     l = 0\n",
    "#     b = sort(b)\n",
    "#     for v in a\n",
    "#         l += length(searchsorted(b,v))\n",
    "#     end\n",
    "#     l\n",
    "# end\n",
    "\n",
    "# function get_p_known_first_order(g::LightGraphs.Graph,e::Pair{Int,Int},p::Real)\n",
    "#     return get_p_known_first_order(get_num_mutual_neighbors(g,e),p)\n",
    "# end\n",
    "\n",
    "# function get_p_known_first_order_theory(g::LightGraphs.Graph,p::Real)\n",
    "#     return get_p_known_first_order(get_num_mutual_neighbors_theory(g),p)\n",
    "# end\n",
    "\n",
    "# function get_num_mutual_neighbors(g::LightGraphs.Graph,e::Pair{Int,Int})\n",
    "#     v1 = e[1]\n",
    "#     v2 = e[2]\n",
    "#     neighbors1 = LightGraphs.neighbors(g,v1)\n",
    "#     neighbors2 = LightGraphs.neighbors(g,v2)\n",
    "#     num_mutual_neighbors = intersection_length(neighbors1,neighbors2)\n",
    "#     return num_mutual_neighbors\n",
    "# end\n",
    "\n",
    "# function get_num_mutual_neighbors_theory(g::LightGraphs.Graph)\n",
    "#     num_vertices= LightGraphs.nv(g)\n",
    "#     p_edge = 2*LightGraphs.ne(g)/(num_vertices*(num_vertices-1))\n",
    "#     num_mutual_neighbors = (num_vertices - 2)*p_edge^2\n",
    "#     return num_mutual_neighbors\n",
    "# end\n",
    "    \n",
    "# function get_p_known_first_order(num_mutual_neighbors::Real,p::Real)\n",
    "#     return 1 - (1-p)*(1-p^2)^num_mutual_neighbors\n",
    "# end\n",
    "\n",
    "# function get_p_known_zeroth_order(g::LightGraphs.Graph,e::Pair{Int,Int},p::Real)\n",
    "#     return p \n",
    "# end\n",
    "\n",
    "\n",
    "# function get_mean_p_known_for_node(g::LightGraphs.Graph,v::Int,p_known_fn)\n",
    "#     p_known = 0\n",
    "#     neighbors = LightGraphs.neighbors(g,v)\n",
    "#     for w in neighbors\n",
    "#         p_known += p_known_fn(g,Pair(v,w))\n",
    "#     end\n",
    "#     return p_known/length(neighbors)\n",
    "# end\n",
    "\n",
    "# function get_mean_p_known_on_edge_for_graph(g::LightGraphs.Graph,p_known_fn)\n",
    "#     p_known = 0\n",
    "#     num_edges = 0\n",
    "#     for v in LightGraphs.vertices(g)\n",
    "#         if LightGraphs.degree(g,v) == 0 continue end\n",
    "#         neighbors = LightGraphs.neighbors(g,v)\n",
    "#         for w in neighbors\n",
    "#             p_known += p_known_fn(g,Pair(v,w))\n",
    "#             num_edges += 1\n",
    "#         end\n",
    "#     end\n",
    "#     return p_known/num_edges\n",
    "# end\n",
    "\n",
    "# function get_mean_p_known_on_node_for_graph(g::LightGraphs.Graph,p_known_fn)\n",
    "#     p_known = 0\n",
    "#     num_vertices = 0\n",
    "#     for v in LightGraphs.vertices(g)\n",
    "#         if LightGraphs.degree(g,v) == 0 continue end\n",
    "#         p_known += get_mean_p_known_for_node(g,v,p_known_fn)\n",
    "#         num_vertices += 1\n",
    "#     end\n",
    "#     return p_known/num_vertices\n",
    "# end\n",
    "\n",
    "# ###########################Monte Carlo Calculation of p_known##########################3\n",
    "\n",
    "# typealias GraphComponents Array{Set{Int}}\n",
    "\n",
    "# function get_components(g::LightGraphs.Graph)\n",
    "#     components::GraphComponents = []\n",
    "#     for v = LightGraphs.vertices(g)\n",
    "#         if !components_contain(components,v)\n",
    "#             new_component = get_connected_component(g,v)\n",
    "#             push!(components,new_component)\n",
    "#         end\n",
    "#     end\n",
    "#     return components\n",
    "# end\n",
    "\n",
    "# function add_node_and_all_neighbors(g::LightGraphs.Graph,v::Int,component::Set{Int})\n",
    "#     push!(component,v)\n",
    "#     for w in LightGraphs.neighbors(g,v)\n",
    "#         if !(w in component)\n",
    "#             add_node_and_all_neighbors(g,w,component)\n",
    "#         end\n",
    "#     end\n",
    "# end\n",
    "    \n",
    "\n",
    "# function get_connected_component(g::LightGraphs.Graph,v::Int)\n",
    "#     component = Set{Int}()\n",
    "#     add_node_and_all_neighbors(g,v,component)\n",
    "#     return component\n",
    "# end\n",
    "\n",
    "\n",
    "# function components_contain(components::GraphComponents,v::Int)\n",
    "#     for component in components\n",
    "#         if v in component return true end\n",
    "#     end\n",
    "#     return false\n",
    "# end\n",
    "\n",
    "\n",
    "# function get_p_known_percolation(g::LightGraphs.Graph,p::Real,num_trials = 100)\n",
    "#     p_knowns = zeros(size(LightGraphs.vertices(g)))\n",
    "#     singletons = get_singleton_nodes_array(g)\n",
    "#     for i in 1:num_trials\n",
    "#         h = sample_graph_edges(g,p)\n",
    "#         components = get_components(h::LightGraphs.Graph)\n",
    "#         p_knowns += get_p_known_given_components(g,components)\n",
    "#     end\n",
    "#     p_knowns /= num_trials\n",
    "#     return p_knowns,mean(p_knowns[!singletons])\n",
    "# end\n",
    "\n",
    "\n",
    "# #Monte Carlo Calculation of p_known\n",
    "# function get_p_known_given_components(g::LightGraphs.Graph,components::GraphComponents)\n",
    "#     p_knowns = zeros(size(LightGraphs.vertices(g)))\n",
    "#     for v in LightGraphs.vertices(g)\n",
    "#         neighbors = LightGraphs.neighbors(g,v)\n",
    "#         for w in neighbors\n",
    "#             if nodes_in_same_component(v,w,components) p_knowns[v] += 1.0 end\n",
    "#         end\n",
    "#         if length(neighbors) > 0\n",
    "#             p_knowns[v] /= length(neighbors)\n",
    "#         end\n",
    "#     end\n",
    "#     return p_knowns\n",
    "# end\n",
    "\n",
    "# #Monte Carlo Calculation of p_known with maximum path length.\n",
    "# function get_p_known_given_components(g::LightGraphs.Graph,components::GraphComponents,dists::Array{Int,2},max_dist::Int)\n",
    "#     p_knowns = zeros(size(LightGraphs.vertices(g)))\n",
    "#     for v in LightGraphs.vertices(g)\n",
    "#         neighbors = LightGraphs.neighbors(g,v)\n",
    "#         for w in neighbors\n",
    "#             if nodes_in_same_component(v,w,components) && dists[v,w] <= max_dist\n",
    "#                 p_knowns[v] += 1.0\n",
    "#             end\n",
    "#         end\n",
    "#         if length(neighbors) > 0\n",
    "#             p_knowns[v] /= length(neighbors)\n",
    "#         end\n",
    "#     end\n",
    "#     return p_knowns\n",
    "# end\n",
    "\n",
    "\n",
    "# function get_singleton_nodes_array(g::LightGraphs.Graph)\n",
    "#     singletons = Array(Bool,size(LightGraphs.vertices(g)))\n",
    "#     for v in LightGraphs.vertices(g)\n",
    "#         if length(LightGraphs.neighbors(g,v)) == 0\n",
    "#             singletons[v] = true\n",
    "#         else\n",
    "#             singletons[v] = false\n",
    "#         end\n",
    "#     end\n",
    "#     return singletons\n",
    "# end\n",
    "\n",
    "# function nodes_in_same_component(v::Int,w::Int,components::GraphComponents)\n",
    "#     for component in components\n",
    "#         if (v in component) && (w in component)\n",
    "#             return true\n",
    "#         end\n",
    "#     end\n",
    "#     return false\n",
    "# end\n",
    "            \n",
    "            \n",
    "            \n",
    "# function sample_graph_edges(g::LightGraphs.Graph,p::Real)\n",
    "#     h = copy(g)\n",
    "#     edges = copy(collect(LightGraphs.edges(h)))\n",
    "#     for ed in edges\n",
    "#         if rand() < (1-p)\n",
    "#             LightGraphs.rem_edge!(h,ed)\n",
    "#         end\n",
    "#     end\n",
    "#     return h\n",
    "# end\n",
    "\n",
    "# function get_p_known_percolation(g::LightGraphs.Graph,p::Real,max_order::Int,num_trials = 100)\n",
    "#     p_knowns = zeros(size(LightGraphs.vertices(g)))\n",
    "#     singletons = get_singleton_nodes_array(g)\n",
    "#     for i in 1:num_trials\n",
    "#         h = sample_graph_edges(g,p)\n",
    "#         components = get_components(h::LightGraphs.Graph)\n",
    "#         dists = LightGraphs.floyd_warshall_shortest_paths(h).dists\n",
    "#         p_knowns += get_p_known_given_components(g,components,dists,max_order)\n",
    "#     end\n",
    "#     p_knowns /= num_trials\n",
    "#     return p_knowns,mean(p_knowns[!singletons])\n",
    "# end\n",
    "\n",
    "\n",
    "# ###########################Reliability function calculation of p_known#########################\n",
    "\n",
    "# function memoize_An(n::BigInt,p::BigFloat)\n",
    "#     Ans = Array(BigFloat,n)\n",
    "#     Ans[1] = 1\n",
    "#     for n_curr = 2:n\n",
    "#         term::BigFloat = 0\n",
    "#         for j = 1:n_curr-1\n",
    "#             term += binomial(BigInt(n_curr-1),BigInt(j-1)) * Ans[j] * (1-p)^(j*(n_curr-j))\n",
    "#         end\n",
    "#         Ans[n_curr] = 1-term\n",
    "#     end\n",
    "#     return Ans\n",
    "# end    \n",
    "\n",
    "# # function get_An(n,p)\n",
    "# #     if n == 1 return 1 end\n",
    "# #     term = 0\n",
    "# #     for j = 1:n-1\n",
    "# #         term += binomial(BigInt(n-1),BigInt(j-1)) * get_An(j,p) * (1-p)^(j*(n-j))\n",
    "# #     end\n",
    "# #     return 1-term\n",
    "# # end\n",
    "\n",
    "# function get_Tn_memoized(n::BigInt,p::BigFloat)\n",
    "#     Ans::Array{BigFloat,1} = memoize_An(n,p)\n",
    "#     term::BigFloat = 0\n",
    "#     for j = 2:n\n",
    "#         term += binomial(BigInt(n-2),BigInt(j-2)) * Ans[j] * (1-p)^(j*(n-j))\n",
    "#     end\n",
    "#     return term\n",
    "# end\n",
    "\n",
    "# # function get_Tn(n,p)\n",
    "# #     term = 0\n",
    "# #     for j = 2:n\n",
    "# #         term += binomial(BigInt(n-2),BigInt(j-2)) * get_An(j,p) * (1-p)^(j*(n-j))\n",
    "# #     end\n",
    "# #     return term\n",
    "# # end\n",
    "\n",
    "\n",
    "# function get_p_known_percolation_theory(g::LightGraphs.Graph,p)\n",
    "#     n = LightGraphs.nv(g)\n",
    "#     p_edge = 2*LightGraphs.ne(g)/(n*(n-1))\n",
    "#     return get_p_known_percolation_theory(n,p_edge,p)\n",
    "# end\n",
    "\n",
    "# function get_p_known_percolation_theory(n,p_edge,p)\n",
    "#     reliability = get_Tn_memoized(BigInt(n),BigFloat(p*p_edge))\n",
    "#     if p == p_edge == 1.0 return 1.0 end\n",
    "#     return p + (1-p)*(reliability - p_edge*p)/(1-p_edge*p)\n",
    "# end\n",
    "\n",
    "# function choose(n::Int,k::Int)\n",
    "#     return factorial(n)/(factorial(n-k)*factorial(k))\n",
    "# end\n",
    "\n",
    "# #####################Graph Creation###########################\n",
    "# function create_graph(N,k,graph_type=:erdos_renyi)\n",
    "#     p_edge = k/(N-1)\n",
    "#     if graph_type == :erdos_renyi\n",
    "#         g = LightGraphs.erdos_renyi(N,p_edge)\n",
    "#     elseif graph_type == :watts_strogatz\n",
    "#         g = LightGraphs.watts_strogatz(N,Int(round((N-1)*p_edge)),0.5)\n",
    "#     elseif graph_type == :random_regular\n",
    "#         g = LightGraphs.random_regular_graph(N,Int(round((N-1)*p_edge)))\n",
    "#     elseif graph_type == :powerlaw_cluster\n",
    "#         g = powerlaw_cluster_graph(N,Int(round(0.5*(N-1)*p_edge)),1.0)\n",
    "#     elseif graph_type == :fb\n",
    "#         g = read_edgelist(\"../data/facebook_combined.txt\")\n",
    "#     else\n",
    "#         error(\"invalid graph type\")\n",
    "#     end\n",
    "#     g\n",
    "# end\n",
    "\n",
    "# @pyimport networkx as nx\n",
    "# function networkx_to_lightgraph(G)\n",
    "#     g = LightGraphs.Graph(length(nx.nodes(G)))\n",
    "#     for e in nx.edges(G)\n",
    "#         LightGraphs.add_edge!(g,e[1]+1,e[2]+1)\n",
    "#     end\n",
    "#     g\n",
    "# end\n",
    "\n",
    "# function powerlaw_cluster_graph(N::Int,k::Int,beta::Real)\n",
    "#     G = nx.powerlaw_cluster_graph(N,k,beta)\n",
    "#     return networkx_to_lightgraph(G)\n",
    "# end\n",
    "\n",
    "\n",
    "# function make_networkx_graph_from_lightgraph(G::LightGraphs.Graph)\n",
    "#     H = nx.empty_graph(length(LightGraphs.vertices(G)))\n",
    "#     for e in LightGraphs.edges(G)\n",
    "#         H[:add_edge](e[1]-1,e[2]-1)\n",
    "#     end\n",
    "#     H\n",
    "# end\n",
    "\n",
    "# function read_edgelist(filename)\n",
    "#     G = nx.read_edgelist(filename,nodetype=int)\n",
    "#     return networkx_to_lightgraph(G)\n",
    "# end\n",
    "\n",
    "\n",
    "\n",
    "# #########################Calculations for p_known from number of paths, higher order (>2)#####################\n",
    "\n",
    "# function get_p_known_second_order(g::LightGraphs.Graph,e::Pair{Int,Int},p::Real)\n",
    "#     return get_p_known_second_order(get_num_mutual_neighbors(g,e),get_num_second_neighbors(g,e),p)\n",
    "# end\n",
    "\n",
    "# function get_p_known_second_order_theory(g::LightGraphs.Graph,p::Real)\n",
    "#     return get_p_known_second_order(get_num_mutual_neighbors_theory(g),get_num_second_neighbors_theory(g),p)\n",
    "# end\n",
    "\n",
    "# function get_num_second_neighbors(g::LightGraphs.Graph,e::Pair{Int,Int})\n",
    "#     v1 = e[1]\n",
    "#     v2 = e[2]\n",
    "#     neighbors1 = LightGraphs.neighbors(g,v1)\n",
    "#     neighbors2 = LightGraphs.neighbors(g,v2)\n",
    "#     num_mutual_neighbors = intersection_length(neighbors1,neighbors2)\n",
    "#     return num_mutual_neighbors\n",
    "# end\n",
    "\n",
    "# function get_num_second_neighbors_theory(g::LightGraphs.Graph)\n",
    "#     num_vertices= LightGraphs.nv(g)\n",
    "#     p_edge = 2*LightGraphs.ne(g)/(num_vertices*(num_vertices-1))\n",
    "#     num_second_neighbors = (num_vertices - 2)*(num_vertices - 3)*p_edge^3\n",
    "#     return num_second_neighbors\n",
    "# end\n",
    "    \n",
    "# function get_p_known_second_order(num_mutual_neighbors::Real,num_second_neighbors::Real,p::Real)\n",
    "#     return 1 - (1-p)*(1-p^2)^num_mutual_neighbors*(1-p^3)^num_second_neighbors\n",
    "# end\n",
    "\n",
    "# function get_nth_neighbors_theory(g::LightGraphs.Graph,n::Int)\n",
    "#     num_vertices= LightGraphs.nv(g)\n",
    "#     p_edge = 2*LightGraphs.ne(g)/(num_vertices*(num_vertices-1))\n",
    "#     num = 1\n",
    "#     for i = 1:n\n",
    "#         num *= (num_vertices - 1 - i)\n",
    "#     end\n",
    "#     num *= p_edge^(n + 1)\n",
    "#     return num\n",
    "# end\n",
    "\n",
    "# function get_p_known_nth_order_theory(g::LightGraphs.Graph,p::Real,n::Int)\n",
    "#     prod = 1 - p\n",
    "#     for i = 1:n\n",
    "#         prod *= (1-p^(i+1))^get_nth_neighbors_theory(g,i)\n",
    "#     end\n",
    "#     return 1- prod\n",
    "# end\n",
    "\n",
    "# function get_p_known_percolation(g::LightGraphs.Graph,e::Pair{Int,Int},p::Real,num_trials = 100)\n",
    "#     connecteds = 0\n",
    "#     for i in 1:num_trials\n",
    "#         h = copy(g)\n",
    "#         edges = copy(LightGraphs.edges(h))\n",
    "#         for ed in edges\n",
    "#             if rand() < (1-p)\n",
    "#                 LightGraphs.rem_edge!(h,ed)\n",
    "#             end\n",
    "#         end\n",
    "# #         @show LightGraphs.dijkstra_shortest_paths(h,e[1]).parents[e[2]]\n",
    "#         connecteds += LightGraphs.dijkstra_shortest_paths(h,e[1]).parents[e[2]] != 0\n",
    "#     end\n",
    "#     return connecteds/num_trials\n",
    "# end\n",
    "\n",
    "\n",
    "\n",
    "\n",
    "    "
   ]
  },
  {
   "cell_type": "code",
   "execution_count": null,
   "metadata": {
    "collapsed": true
   },
   "outputs": [],
   "source": []
  }
 ],
 "metadata": {
  "kernelspec": {
   "display_name": "Julia 0.4.3",
   "language": "julia",
   "name": "julia-0.4"
  },
  "language_info": {
   "file_extension": ".jl",
   "mimetype": "application/julia",
   "name": "julia",
   "version": "0.4.3"
  }
 },
 "nbformat": 4,
 "nbformat_minor": 0
}
