{
 "cells": [
  {
   "cell_type": "code",
   "execution_count": null,
   "metadata": {
    "collapsed": false
   },
   "outputs": [],
   "source": [
    "run(`java -jar RandomClusteringNetwork.jar`)"
   ]
  },
  {
   "cell_type": "code",
   "execution_count": null,
   "metadata": {
    "collapsed": false
   },
   "outputs": [],
   "source": [
    "push!(LOAD_PATH, pwd())\n",
    "using RandomClusteringGraph, Distributions, LightGraphs, GraphCreation"
   ]
  },
  {
   "cell_type": "code",
   "execution_count": null,
   "metadata": {
    "collapsed": false
   },
   "outputs": [],
   "source": [
    "#degree_dist = Normal(44,10)\n",
    "H = create_graph(4040,44,:fb)\n",
    "d = fit(Pareto,degree(H))\n",
    "N = 4040\n",
    "C = 0.6\n",
    "G = random_clustering_graph(d,N,C) "
   ]
  },
  {
   "cell_type": "code",
   "execution_count": null,
   "metadata": {
    "collapsed": false
   },
   "outputs": [],
   "source": []
  },
  {
   "cell_type": "code",
   "execution_count": null,
   "metadata": {
    "collapsed": true
   },
   "outputs": [],
   "source": [
    "1+1"
   ]
  },
  {
   "cell_type": "code",
   "execution_count": null,
   "metadata": {
    "collapsed": false
   },
   "outputs": [],
   "source": [
    "H = create_graph(4040,44,:fb)"
   ]
  },
  {
   "cell_type": "code",
   "execution_count": null,
   "metadata": {
    "collapsed": false
   },
   "outputs": [],
   "source": [
    "#mean(degree(G))\n",
    "#std(degree(G))\n",
    "println(mean(local_clustering_coefficient(G)),\" \", std(local_clustering_coefficient(G)))\n",
    "println(mean(local_clustering_coefficient(H)),\" \", std(local_clustering_coefficient(H)))"
   ]
  },
  {
   "cell_type": "code",
   "execution_count": null,
   "metadata": {
    "collapsed": false
   },
   "outputs": [],
   "source": [
    "using PyPlot\n",
    "\n",
    "d = Pareto(0.5)\n",
    "d2 = Pareto(2)\n",
    "\n",
    "x = 1:0.01:100\n",
    "\n",
    "loglog(x,pdf(d,x))\n",
    "loglog(x,pdf(d2,x))\n",
    "grid()"
   ]
  },
  {
   "cell_type": "code",
   "execution_count": null,
   "metadata": {
    "collapsed": false
   },
   "outputs": [],
   "source": [
    "scatter(degree(G),local_clustering_coefficient(G),color=\"g\",alpha=0.4)\n",
    "figure()\n",
    "scatter(degree(H),local_clustering_coefficient(H),color=\"b\",alpha=0.4)"
   ]
  },
  {
   "cell_type": "code",
   "execution_count": null,
   "metadata": {
    "collapsed": false
   },
   "outputs": [],
   "source": [
    "plt[:hist](local_clustering_coefficient(G),bins=20,alpha=0.4,normed=true)\n",
    "plt[:hist](local_clustering_coefficient(H),bins=20,alpha=0.4,normed=true)"
   ]
  },
  {
   "cell_type": "code",
   "execution_count": null,
   "metadata": {
    "collapsed": false
   },
   "outputs": [],
   "source": [
    "d = fit(Pareto,dh)\n",
    "d2 = fit(Gamma,dh)"
   ]
  },
  {
   "cell_type": "code",
   "execution_count": null,
   "metadata": {
    "collapsed": false
   },
   "outputs": [],
   "source": [
    "dh = degree(H)\n",
    "dg = rand(d,length(dh))\n",
    "\n",
    "binsh = logspace(log10(minimum(dh)),log10(maximum(dh)),50)\n",
    "\n",
    "\n",
    "plt[:hist](dh,bins=binsh,alpha=0.4,normed=true,log=true)\n",
    "plt[:hist](dg,bins=binsh,alpha=0.4,normed=true,log=true)\n",
    "plot(binsh,pdf(d,binsh),\"b\")\n",
    "plot(binsh,pdf(d2,binsh),\"r\")\n",
    "gca()[:set_xscale](\"log\")\n",
    "\n",
    "#xlim([0,250])"
   ]
  },
  {
   "cell_type": "code",
   "execution_count": null,
   "metadata": {
    "collapsed": false
   },
   "outputs": [],
   "source": [
    "x = 0:0.1:100\n",
    "loglog(x,pdf(d2,x),\"r\")"
   ]
  },
  {
   "cell_type": "code",
   "execution_count": null,
   "metadata": {
    "collapsed": true
   },
   "outputs": [],
   "source": []
  }
 ],
 "metadata": {
  "kernelspec": {
   "display_name": "Julia 0.4.3",
   "language": "julia",
   "name": "julia-0.4"
  },
  "language_info": {
   "file_extension": ".jl",
   "mimetype": "application/julia",
   "name": "julia",
   "version": "0.4.3"
  }
 },
 "nbformat": 4,
 "nbformat_minor": 0
}
