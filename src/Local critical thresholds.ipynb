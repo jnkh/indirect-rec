{
 "cells": [
  {
   "cell_type": "markdown",
   "metadata": {},
   "source": [
    "## Local critical thresholds."
   ]
  },
  {
   "cell_type": "code",
   "execution_count": 4,
   "metadata": {
    "collapsed": false
   },
   "outputs": [],
   "source": [
    "from graph_reciprocity import *"
   ]
  },
  {
   "cell_type": "code",
   "execution_count": 15,
   "metadata": {
    "collapsed": false
   },
   "outputs": [
    {
     "name": "stdout",
     "output_type": "stream",
     "text": [
      "CPU times: user 272 ms, sys: 9.75 ms, total: 281 ms\n",
      "Wall time: 369 ms\n"
     ]
    },
    {
     "data": {
      "text/plain": [
       "(0.9992920416972262, 25.301751592356688)"
      ]
     },
     "execution_count": 15,
     "metadata": {},
     "output_type": "execute_result"
    }
   ],
   "source": [
    "#Speed Test\n",
    "N_nodes = 100\n",
    "p_edge = 0.5\n",
    "p = 0.5\n",
    "num_trials = 1\n",
    "p_coop = 1.0\n",
    "#get_average_mutual_neighbors_for_graph_type(N_nodes,p_edge,p,num_trials,create_graph,random_number=False)\n",
    "G = create_graph(N_nodes,p_edge,p_coop,random_number=False)\n",
    "%time get_average_p_known(G,prob_of_known_fn = lambda x,y: get_p_known(x,y,p))"
   ]
  },
  {
   "cell_type": "code",
   "execution_count": 24,
   "metadata": {
    "collapsed": false
   },
   "outputs": [],
   "source": [
    "import networkx as nx\n",
    "G_fb = nx.read_edgelist('../data/facebook_combined.txt',nodetype=int)"
   ]
  },
  {
   "cell_type": "code",
   "execution_count": 130,
   "metadata": {
    "collapsed": false
   },
   "outputs": [
    {
     "name": "stdout",
     "output_type": "stream",
     "text": [
      "(25.3125, 1.494874496832746)\n"
     ]
    }
   ],
   "source": [
    "G = nx.ego_graph(G_fb,random.choice(G_fb.nodes(),size=1,replace=False)[0])\n",
    "print get_degree_and_average_threshold(G,p)\n",
    "degrees = nx.degree(G).values()\n",
    "bins = logspace(log10(min(degrees)),log10(max(degrees)),num=40)\n",
    "hist(nx.degree(G).values(),bins=bins,normed=True,log=True)\n",
    "gca().set_xscale('log')\n",
    "grid()"
   ]
  },
  {
   "cell_type": "code",
   "execution_count": 151,
   "metadata": {
    "collapsed": false
   },
   "outputs": [
    {
     "name": "stdout",
     "output_type": "stream",
     "text": [
      "1000 3499\n",
      "1000 3000\n",
      "1000 2990\n",
      "1000 8814\n",
      "1000 8000\n",
      "1000 7933\n",
      "1000 17771\n",
      "1000 17000\n",
      "1000 16710\n",
      "1000 35562\n",
      "1000 35000\n",
      "1000 33774\n",
      "1000 70555\n",
      "1000 70000\n",
      "1000 65090\n",
      "1000 141608\n",
      "1000 141000\n",
      "1000 121118\n"
     ]
    }
   ],
   "source": [
    "N_range = array([1000])#array([0.05,0.2,0.6])\n",
    "#close('all')\n",
    "p = 0.2\n",
    "newdata = False\n",
    "for j,N_nodes in enumerate(N_range):\n",
    "    num_trials_default = 1\n",
    "    p_coop = 1 - 1.0/N_nodes\n",
    "    p_edge_range = array([0.1,0.25,0.5,1,2,4])*sqrt(5.0/N_nodes)#array([0.1,0.25,0.5,1,2,3,4])*sqrt(5.0/N_nodes)\n",
    "    num_trials_array = num_trials_default*ones_like(p_edge_range)\n",
    "    # num_trials_array[0:3] *= 5\n",
    "    # num_trials_array[0:1] *= 5\n",
    "    p_know_range_th = get_p_known_first_order(p_edge_range**2*N_nodes,p)\n",
    "    p_know_range = zeros_like(p_edge_range)\n",
    "    p_know_range_sw = zeros_like(p_edge_range)\n",
    "    p_know_range_sf = zeros_like(p_edge_range)\n",
    "    mutual_neighbors_range = zeros_like(p_edge_range)\n",
    "    mutual_neighbors_range_sw = zeros_like(p_edge_range)\n",
    "    mutual_neighbors_range_sf = zeros_like(p_edge_range)\n",
    "    num_edges_range = zeros_like(p_edge_range)\n",
    "    num_edges_range_sw = zeros_like(p_edge_range)\n",
    "    num_edges_range_sf = zeros_like(p_edge_range)\n",
    "\n",
    "\n",
    "\n",
    "    for i,p_edge in enumerate(p_edge_range):\n",
    "        num_trials = int(round(num_trials_array[i]))\n",
    "        p_know_range[i],mutual_neighbors_range[i],num_edges_range[i] = get_average_mutual_neighbors_for_graph_type(N_nodes,p_edge,p,num_trials,create_graph,random_number=False)\n",
    "        p_know_range_sw[i],mutual_neighbors_range_sw[i],num_edges_range_sw[i] = get_average_mutual_neighbors_for_graph_type(N_nodes,p_edge,p,num_trials,create_small_world_graph,random_number=False)\n",
    "        p_know_range_sf[i],mutual_neighbors_range_sf[i],num_edges_range_sf[i] = get_average_mutual_neighbors_for_graph_type(N_nodes,p_edge,p,num_trials,create_scale_free_graph,random_number=False)\n",
    "\n",
    "    k_range_th = N_nodes*p_edge_range\n",
    "    \n",
    "    #plotting\n",
    "    figure(1)\n",
    "    k_range = 2.0*num_edges_range/N_nodes\n",
    "    k_range_sw = 2.0*num_edges_range_sw/N_nodes\n",
    "    k_range_sf = 2.0*num_edges_range_sf/N_nodes\n",
    "\n",
    "    axhline(1/p,color = 'k',label=r'Th. $\\left(b/c\\right)^*$ (zeroth order)')\n",
    "\n",
    "    plot(k_range_th**2/N_nodes,1/p_know_range_th,'--k',label=r'Th. $\\left(b/c\\right)_{critical}$ (first order)')\n",
    "\n",
    "    plot(k_range**2/N_nodes,1/p_know_range,'-ob',label=r'Sim. $\\left(b/c\\right)_{critical}$ (first order, Erdos-Renyi)')\n",
    "    plot(k_range_sw**2/N_nodes,1/p_know_range_sw,'-^r',label=r'Sim. $\\left(b/c\\right)_{critical}$ (first order, Small World)')\n",
    "    plot(k_range_sf**2/N_nodes,1/p_know_range_sf,'-sg',label=r'Sim. $\\left(b/c\\right)_{critical}$ (first order, Clustered Scale Free)')\n",
    "\n",
    "    xlabel(r'$k = N_{nodes} p_{edge}$',size=20)\n",
    "    ylabel(r'$\\left(\\frac{b}{c}\\right)^*$',size=20)\n",
    "    grid()\n",
    "    #axhline(N_nodes*sqrt(1.0/N_nodes*(log(1-1.0*c/b) - log(1- p))/log(1-p**2)))\n",
    "    if j == len(p_trial_range)-1:\n",
    "        legend(loc = (1.02,0.63))\n",
    "    title(r'$p = ' + str(p) + '$, $N_{nodes} = ' + str(N_nodes) + '$',size=20)\n",
    "    ylim(1,1.1/p)\n",
    "    #savefig('b_c_critical_vs_k_p' +  str(p) + '.png',bbox_inches='tight')"
   ]
  },
  {
   "cell_type": "code",
   "execution_count": 164,
   "metadata": {
    "collapsed": false
   },
   "outputs": [
    {
     "name": "stdout",
     "output_type": "stream",
     "text": [
      "1654 19960\n",
      "471 2937\n",
      "1562 14152\n",
      "1776 19441\n",
      "1374 16358\n"
     ]
    },
    {
     "data": {
      "text/plain": [
       "<matplotlib.collections.PathCollection at 0xd6048d0>"
      ]
     },
     "execution_count": 164,
     "metadata": {},
     "output_type": "execute_result"
    }
   ],
   "source": [
    "#sample degree and thresholds from a larger graph through subgraphs\n",
    "\n",
    "num_samples =5\n",
    "points = []\n",
    "for i in range(num_samples):\n",
    "    #G = nx.ego_graph(G_fb,random.choice(G_fb.nodes(),size=1,replace=False)[0],radius=1,center=True)\n",
    "    G = G_fb.subgraph(random.choice(G_fb.nodes(),size=random.randint(low=1000,high=2000),replace=False))\n",
    "    G = list(nx.connected_component_subgraphs(G))[0]\n",
    "    p = 0.2\n",
    "    points.append(get_degree_and_average_threshold(G,p))\n",
    "    print len(G.nodes()),len(G.edges())\n",
    "\n",
    "pointsx,pointsy = tuple(zip(*points))\n",
    "figure(3)\n",
    "scatter(pointsx,pointsy,c='r')"
   ]
  },
  {
   "cell_type": "code",
   "execution_count": 2,
   "metadata": {
    "collapsed": false
   },
   "outputs": [],
   "source": [
    "def get_degree_and_average_threshold(G,p):\n",
    "    k = 2.0*len(G.edges())/len(G.nodes())\n",
    "    p_known,_ = get_average_p_known(G,prob_of_known_fn = lambda x,y: get_p_known(x,y,p))\n",
    "    return k**2/len(G.nodes()),1.0/p_known"
   ]
  },
  {
   "cell_type": "code",
   "execution_count": 3,
   "metadata": {
    "collapsed": false
   },
   "outputs": [
    {
     "ename": "NameError",
     "evalue": "name 'G' is not defined",
     "output_type": "error",
     "traceback": [
      "\u001b[1;31m---------------------------------------------------------------------------\u001b[0m",
      "\u001b[1;31mNameError\u001b[0m                                 Traceback (most recent call last)",
      "\u001b[1;32m<ipython-input-3-1004b0b65a2a>\u001b[0m in \u001b[0;36m<module>\u001b[1;34m()\u001b[0m\n\u001b[0;32m     38\u001b[0m \u001b[1;31m#G = nx.read_edgelist('../data/facebook_combined.txt',nodetype=int)\u001b[0m\u001b[1;33m\u001b[0m\u001b[1;33m\u001b[0m\u001b[0m\n\u001b[0;32m     39\u001b[0m \u001b[1;31m#G = create_small_world_graph(N_nodes,p_edge,p_coop,random_number=False)\u001b[0m\u001b[1;33m\u001b[0m\u001b[1;33m\u001b[0m\u001b[0m\n\u001b[1;32m---> 40\u001b[1;33m \u001b[0mupdate_threshold\u001b[0m\u001b[1;33m(\u001b[0m\u001b[0mG\u001b[0m\u001b[1;33m,\u001b[0m\u001b[0mprob_of_known_fn\u001b[0m \u001b[1;33m=\u001b[0m \u001b[1;32mlambda\u001b[0m \u001b[0mx\u001b[0m\u001b[1;33m,\u001b[0m\u001b[0my\u001b[0m\u001b[1;33m:\u001b[0m \u001b[0mget_p_known\u001b[0m\u001b[1;33m(\u001b[0m\u001b[0mx\u001b[0m\u001b[1;33m,\u001b[0m\u001b[0my\u001b[0m\u001b[1;33m,\u001b[0m\u001b[0mp\u001b[0m\u001b[1;33m)\u001b[0m\u001b[1;33m)\u001b[0m\u001b[1;33m\u001b[0m\u001b[0m\n\u001b[0m\u001b[0;32m     41\u001b[0m \u001b[0mdraw_graph_thresholds\u001b[0m\u001b[1;33m(\u001b[0m\u001b[0mG\u001b[0m\u001b[1;33m)\u001b[0m\u001b[1;33m\u001b[0m\u001b[0m\n\u001b[0;32m     42\u001b[0m \u001b[1;33m\u001b[0m\u001b[0m\n",
      "\u001b[1;31mNameError\u001b[0m: name 'G' is not defined"
     ]
    }
   ],
   "source": [
    "#%pylab qt\n",
    "p = 0.4\n",
    "\n",
    "def draw_graph_thresholds(G):\n",
    "    close('all')\n",
    "    k = 2*len(G.edges())/len(G.nodes())\n",
    "    node_color = [G.node[i]['threshold'] for i in G.nodes()]\n",
    "    node_size = [100.0*len(G.edges([i]))/k for i in G.nodes()]\n",
    "\n",
    "    subplot(121)\n",
    "    \n",
    "    ax1 = hist(node_color,alpha = 0.6,bins=10)\n",
    "    xlabel(r'$\\frac{p}{P_i}$',size=25)\n",
    "    ylabel(r'frequency',size=15)\n",
    "    \n",
    "    subplot(122)\n",
    "    vmin = min(node_color)\n",
    "    vmax = max(node_color)\n",
    "    pos = nx.spring_layout(G)\n",
    "    node_labels = {i:'{:.2f}'.format(G.node[i]['threshold']) for i in G.nodes()}\n",
    "    \n",
    "    ax2 = nx.draw_networkx_nodes(G,pos,alpha=0.6,node_color=node_color,node_size=node_size,labels=node_labels,with_labels=False)\n",
    "    \n",
    "    nx.draw_networkx_edges(G,pos,alpha=0.2)\n",
    "    \n",
    "    cbar = colorbar(ax2)\n",
    "    cbar.ax.set_ylabel(r'$\\frac{p}{P_i}$',size=25)\n",
    "    axis('off')\n",
    "    cbar.ax.set_xlabel(r'node size $\\sim k_i$',size=20)\n",
    "    suptitle(r'$p = ' + str(p) + '$, $N_{nodes} = ' + str(N_nodes) + '$',size=20)\n",
    "\n",
    "    \n",
    "    \n",
    "    \n",
    "N_nodes = 150\n",
    "p_edge = sqrt(1.0/N_nodes)\n",
    "p_coop = 1 - 1.0/N_nodes\n",
    "#G = nx.read_edgelist('../data/facebook_combined.txt',nodetype=int)\n",
    "#G = create_small_world_graph(N_nodes,p_edge,p_coop,random_number=False)\n",
    "update_threshold(G,prob_of_known_fn = lambda x,y: get_p_known(x,y,p))\n",
    "draw_graph_thresholds(G)\n",
    "\n"
   ]
  },
  {
   "cell_type": "code",
   "execution_count": 5,
   "metadata": {
    "collapsed": false
   },
   "outputs": [
    {
     "name": "stdout",
     "output_type": "stream",
     "text": [
      "Populating the interactive namespace from numpy and matplotlib\n",
      "100 529\n",
      "100 500\n",
      "100 475\n",
      "100 494\n",
      "100 500\n",
      "100 474\n",
      "1.25131801247 2.5\n",
      "1.25131801247 2.5\n",
      "1.25131801247 2.5\n"
     ]
    },
    {
     "name": "stderr",
     "output_type": "stream",
     "text": [
      "WARNING: pylab import has clobbered these variables: ['info', 'linalg', 'draw_if_interactive', 'fft', 'power']\n",
      "`%matplotlib` prevents importing * from pylab and numpy\n"
     ]
    }
   ],
   "source": [
    "%pylab qt\n",
    "p = 0.4\n",
    "N_nodes = 100 #1000\n",
    "p_edge = sqrt(1.0/N_nodes)\n",
    "p_coop = 1 - 1.0/N_nodes\n",
    "close('all')\n",
    "graph_fns = [create_graph,create_small_world_graph,create_scale_free_graph]\n",
    "graph_names = ['Erdos-Renyi','Small World', 'Clustered Scale Free','Facebook']\n",
    "all_thresholds = [[],[],[]]\n",
    "num_trials = 1\n",
    "for k in range(num_trials):\n",
    "    for j,fn in enumerate(graph_fns):\n",
    "        G = fn(N_nodes,p_edge,p_coop,random_number=False)\n",
    "        if k == 0:\n",
    "            print len(G.nodes()),len(G.edges())\n",
    "        update_threshold(G,prob_of_known_fn = lambda x,y: get_p_known(x,y,p))\n",
    "        all_thresholds[j] += [G.node[i]['threshold'] for i in range(len(G.nodes()))]\n",
    "#    thresholds = [100.0*len(G.edges([i]))/k for i in range(len(G.nodes()))]\n",
    "\n",
    "\n",
    "\n",
    "\n",
    "    \n",
    "plot_histograms(graph_fns,all_thresholds,p)\n",
    "\n",
    "N_nodes = 100\n",
    "p_edge = sqrt(1.0/N_nodes)\n",
    "\n",
    "all_graphs = []\n",
    "all_thresholds = []\n",
    "all_degrees = []\n",
    "for j,fn in enumerate(graph_fns):\n",
    "    G = fn(N_nodes,p_edge,p_coop,random_number=False)\n",
    "    all_graphs.append(G)\n",
    "    print len(G.nodes()),len(G.edges())\n",
    "    update_threshold(G,prob_of_known_fn = lambda x,y: get_p_known(x,y,p))\n",
    "\n",
    "    thresholds = [G.node[i]['threshold'] for i in range(len(G.nodes()))]\n",
    "    degrees = [len(G.edges([i])) for i in range(len(G.nodes()))]\n",
    "    \n",
    "    all_thresholds.append(thresholds)\n",
    "    all_degrees.append(degrees)    \n",
    "\n",
    "\n",
    "    \n",
    "plot_colored_graphs(graph_fns,all_graphs,all_thresholds,all_degrees,graph_names,p)"
   ]
  },
  {
   "cell_type": "code",
   "execution_count": 1,
   "metadata": {
    "collapsed": true
   },
   "outputs": [],
   "source": []
  },
  {
   "cell_type": "markdown",
   "metadata": {
    "collapsed": false
   },
   "source": [
    "- How to plot graph data? Vs k or versus n?\n",
    "- How to properly sample from the FB graph?\n",
    "- Add functionality for 2nd degree and wider paths. Analyze the nodes with the highest incentive to cooperate."
   ]
  },
  {
   "cell_type": "code",
   "execution_count": null,
   "metadata": {
    "collapsed": true
   },
   "outputs": [],
   "source": []
  }
 ],
 "metadata": {
  "kernelspec": {
   "display_name": "Python 2",
   "language": "python",
   "name": "python2"
  },
  "language_info": {
   "codemirror_mode": {
    "name": "ipython",
    "version": 2
   },
   "file_extension": ".py",
   "mimetype": "text/x-python",
   "name": "python",
   "nbconvert_exporter": "python",
   "pygments_lexer": "ipython2",
   "version": "2.7.9"
  }
 },
 "nbformat": 4,
 "nbformat_minor": 0
}
