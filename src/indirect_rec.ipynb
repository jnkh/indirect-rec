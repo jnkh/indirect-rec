{
 "cells": [
  {
   "cell_type": "markdown",
   "metadata": {},
   "source": [
    "# Simulation of indirect reciprocity on graphs"
   ]
  },
  {
   "cell_type": "markdown",
   "metadata": {},
   "source": [
    "### Final Project for Math 243,  Spring 2015 "
   ]
  },
  {
   "cell_type": "markdown",
   "metadata": {},
   "source": [
    "### Professor Martin Nowak"
   ]
  },
  {
   "cell_type": "markdown",
   "metadata": {},
   "source": [
    "### Harvard University"
   ]
  },
  {
   "cell_type": "markdown",
   "metadata": {},
   "source": [
    "# Abstract"
   ]
  },
  {
   "cell_type": "markdown",
   "metadata": {},
   "source": [
    "We consider a model of indirect reciprocity on graphs with a prisoner's dilemma game being played between nodes. Indirect reciprocity is encoded by establishing a probability for each node to know the strategy of its neighbor. This probability of \"correct\" gossip may depend on the local graph structure. We find that under reasonable assumptions, the introduction of this information flow increases the stability and payoff of cooperative strategies competing with defectors. Moreover, this effect is pronounced in graphs resembling realistic social networks, such as small-world networks and scale-free networks. Finally, we find that the introduction of gossip causes neighbors and connectivity to positively influence the payoff of cooperators. This stands in contrast to the opposite result for direct cooperation, where the number of neighbors should be minimal to favor cooperation. This new result is more in line with the intuition that more complex and connected social networks should support cooperation."
   ]
  },
  {
   "cell_type": "markdown",
   "metadata": {},
   "source": [
    "# Introduction"
   ]
  },
  {
   "cell_type": "markdown",
   "metadata": {},
   "source": [
    "We imagine a social network as represented on an undirected graph $G = (V,E)$. We consider for simplicity only two strategies: defectors, and clever cooperators. Defectors always defect. Clever cooperators cooperate always unless they know their partner to be a defector.\n",
    "\n",
    "The payoff matrix is given as follows for states $C,D$\n",
    "\n",
    "$$P = \\begin{pmatrix} b - c & -c \\\\ b & 0\\end{pmatrix}$$\n",
    "\n",
    "With states $C,D,C_k$ (cooperate, defect, cooperate and know), we get the following payoff matrix:\n",
    "\n",
    "$$P = \\begin{pmatrix} b - c & -c & b-c \\\\ b & 0 & 0 \\\\ b - c& 0 & b - c\\end{pmatrix}$$"
   ]
  },
  {
   "cell_type": "code",
   "execution_count": 1,
   "metadata": {
    "collapsed": false
   },
   "outputs": [
    {
     "name": "stdout",
     "output_type": "stream",
     "text": [
      "Populating the interactive namespace from numpy and matplotlib\n"
     ]
    }
   ],
   "source": [
    "%pylab inline\n",
    "b = 2\n",
    "c = 0.5\n",
    "payoffs = np.array([[b - c, -c,b-c],[b,0,0],[b-c,0,b-c]])\n",
    "\n",
    "cooperate = 0\n",
    "defect = 1\n",
    "cooperate_and_know = 2"
   ]
  },
  {
   "cell_type": "markdown",
   "metadata": {},
   "source": [
    "On the graph $G$, imagine an indirect reciprocity scenario with gossip. In particular, there is a probability $p(i,j,G)$ which depends on the identity of the two nodes in question and on the graph that node $i$ learns the identity of node $j$. One might imagine this as the probability that the gossip about node $j$ reaches node $i$ _and_ is correct."
   ]
  },
  {
   "cell_type": "markdown",
   "metadata": {},
   "source": [
    "This is the code for most of the functions that we use in this simulation:"
   ]
  },
  {
   "cell_type": "code",
   "execution_count": 1,
   "metadata": {
    "collapsed": false
   },
   "outputs": [],
   "source": [
    "from graph_reciprocity import *"
   ]
  },
  {
   "cell_type": "code",
   "execution_count": 3,
   "metadata": {
    "collapsed": false
   },
   "outputs": [],
   "source": [
    "cooperate = 0\n",
    "defect = 1\n",
    "cooperate_and_know = 2\n",
    "\n",
    "def get_payoff(player_strategy,opponent_strategy,payoffs):\n",
    "    return payoffs[player_strategy,opponent_strategy]\n",
    "\n",
    "def draw_graph(G):\n",
    "    node_color = [0 if G.node[i]['strategy'] == cooperate else 0.1 for i in range(len(G.nodes()))]\n",
    "    node_label = {i:G.node[i]['score'] for i in range(len(G.nodes()))}\n",
    "    nx.draw(G,node_color=node_color,labels=node_label,cmap='spring')\n",
    "\n",
    "def zero_scores(G):\n",
    "    for n in G.nodes():\n",
    "        G.node[n]['score'] = 0.0\n",
    "\n",
    "def update_score(G,payoffs,prob_of_known_fn = lambda x,y: 1.0):\n",
    "    for e in G.edges():\n",
    "        update_score_on_edge(e,G,prob_of_known_fn,payoffs)\n",
    "\n",
    "def update_score_on_edge(e,G,prob_of_known_fn,payoffs = np.array([[b - c, -c,b-c],[b,0,0],[b-c,0,b-c]])):\n",
    "    \n",
    "    s0 = G.node[e[0]]['strategy']\n",
    "    s1 = G.node[e[1]]['strategy']\n",
    "    \n",
    "    #if the identity of opponent is known, change to state 2\n",
    "    p_known = prob_of_known_fn(e,G)\n",
    "    known = np.random.binomial(1,p_known)\n",
    "    if s0 == cooperate and known:\n",
    "        s0 = cooperate_and_know\n",
    "\n",
    "    p_known = prob_of_known_fn(e[::-1],G)\n",
    "    known = np.random.binomial(1,p_known)\n",
    "    if s1 == cooperate and known:\n",
    "        s1 = cooperate_and_know\n",
    "\n",
    "    G.node[e[0]]['score'] += payoffs[s0,s1]\n",
    "    G.node[e[1]]['score'] += payoffs[s1,s0]\n",
    "    \n",
    "\n",
    "\n",
    "\n",
    "        \n",
    "def get_average_scores(G):\n",
    "    #get the average scores for cooperators and defectors\n",
    "    strategy_names = ['cooperate','defect']\n",
    "    scores = np.zeros(2)\n",
    "    num_nodes = np.zeros(2)\n",
    "    for i in G.nodes():\n",
    "        scores[G.node[i]['strategy']] += G.node[i]['score']\n",
    "        num_nodes[G.node[i]['strategy']] += 1\n",
    "    return scores/num_nodes\n",
    "\n",
    "def create_graph(N_nodes,p_edge,p_coop,random_number=True):\n",
    "    #Random graph\n",
    "    #p_coop is the fraction of cooperators\n",
    "    G = nx.gnp_random_graph(N_nodes,p_edge,directed=False)\n",
    "    return set_graph_strategies(G, N_nodes,p_coop,random_number)\n",
    "    \n",
    "def set_graph_strategies(G, N_nodes,p_coop,random_number=True):\n",
    "    if random_number:\n",
    "        for n in G.nodes():\n",
    "            G.node[n]['strategy'] = np.random.binomial(1,1-p_coop)\n",
    "            G.node[n]['score'] = 0\n",
    "    else:\n",
    "        nodes = G.nodes()\n",
    "        random.shuffle(nodes)\n",
    "        for i,n in enumerate(nodes):\n",
    "            if i >= int(round(p_coop*N_nodes)):\n",
    "                G.node[n]['strategy'] = 1\n",
    "            else:\n",
    "                G.node[n]['strategy'] = 0\n",
    "            G.node[n]['score'] = 0\n",
    "    return G\n",
    "\n",
    "\n",
    "def expected_return_c(b,c,p_coop,p_edge,N_nodes,p_know):\n",
    "    return (p_coop*(b-c) + (1 - p_coop)*(1-p_know)*(-c))*N_nodes*p_edge\n",
    "\n",
    "def expected_return_d(b,c,p_coop,p_edge,N_nodes,p_know):\n",
    "    return (p_coop*(1-p_know)*b)*N_nodes*p_edge\n",
    "\n",
    "def get_p_known(e,G,p):\n",
    "    num_mutual_friends =len(set(G.neighbors(e[0])) & set(G.neighbors(e[1])))\n",
    "    return 1 - (1-p)*(1- p**2)**num_mutual_friends\n",
    "\n",
    "def get_p_known_direct(e,G,p):\n",
    "    return p\n",
    "\n",
    "\n",
    "def create_small_world_graph(N_nodes,p_edge,p_coop,random_number=True):\n",
    "    n = N_nodes\n",
    "    k = int(p_edge*N_nodes)\n",
    "    p = 0.5\n",
    "    #Random graph\n",
    "    #p_coop is the fraction of cooperators\n",
    "    G = nx.watts_strogatz_graph(n,k,p)\n",
    "    return set_graph_strategies(G, N_nodes,p_coop,random_number)\n",
    "\n",
    "def create_scale_free_graph(N_nodes,p_edge,p_coop,random_number=True):\n",
    "    #scale free and small world\n",
    "    #Growing Scale-Free Networks with Tunable Clustering\n",
    "    n = N_nodes\n",
    "    m = int(0.5*p_edge*N_nodes)\n",
    "    p = 1.0\n",
    "    #Random graph\n",
    "    #p_coop is the fraction of cooperators\n",
    "    G = nx.powerlaw_cluster_graph(n,m,p)\n",
    "    return set_graph_strategies(G, N_nodes,p_coop,random_number)\n",
    "\n",
    "def get_average_scores_for_graph_type(N_nodes,p_edge,p_coop,p,num_trials,graph_fn,random_number=True):\n",
    "    coop_score = 0\n",
    "    def_score = 0\n",
    "    for j in range(num_trials):\n",
    "        G = graph_fn(N_nodes,p_edge,p_coop,random_number)\n",
    "        update_score(G,payoffs,lambda x,y: get_p_known(x,y,p))\n",
    "        scores = get_average_scores(G)\n",
    "        coop_score += scores[0]\n",
    "        def_score += scores[1]\n",
    "    coop_score /= num_trials\n",
    "    def_score /= num_trials\n",
    "    return coop_score,def_score\n",
    "\n",
    "def get_average_nash_scores_for_graph_type(N_nodes,p_edge,p_coop,p,num_trials,graph_fn,random_number=True,strategy = defect):\n",
    "    score = 0.0\n",
    "    num_edges = 0.0\n",
    "    for j in range(num_trials):\n",
    "        G = graph_fn(N_nodes,p_edge,p_coop,random_number)\n",
    "        score += get_average_nash_score(G,payoffs,lambda x,y: get_p_known(x,y,p),strategy)\n",
    "        num_edges += len(G.edges())\n",
    "    score /= num_trials\n",
    "    num_edges /= num_trials\n",
    "    return score,num_edges\n",
    "\n",
    "\n",
    "#This is the expected score per edge (i.e per neighbor of a given node).\n",
    "def get_average_nash_score(G,payoffs,prob_of_known_fn,strategy = defect):\n",
    "    score = 0\n",
    "    for n in G.nodes():\n",
    "        if strategy == defect:\n",
    "            score += get_score_for_single_defector_node(n,G,payoffs,prob_of_known_fn)\n",
    "        else:\n",
    "            score += get_score_for_single_cooperator_node(n,G,payoffs,prob_of_known_fn)\n",
    "    if len(G.nodes()) == 0:\n",
    "        return 0.0\n",
    "    return 0.5*score/len(G.edges())\n",
    "\n",
    "def get_score_for_single_defector_node(n,G,payoffs = np.array([[b - c, -c,b-c],[b,0,0],[b-c,0,b-c]]),prob_of_known_fn = lambda x,y: 1.0):\n",
    "    score = 0\n",
    "    edges = G.edges([n])\n",
    "    for e in edges:\n",
    "        p_known = prob_of_known_fn(e[::-1],G)\n",
    "        score += payoffs[defect,cooperate_and_know]*p_known + payoffs[defect,cooperate]*(1 - p_known)\n",
    "    return score\n",
    "\n",
    "def get_score_for_single_cooperator_node(n,G,payoffs = np.array([[b - c, -c,b-c],[b,0,0],[b-c,0,b-c]]),prob_of_known_fn = lambda x,y: 1.0):    \n",
    "    score = 0\n",
    "    edges = G.edges([n])\n",
    "    for e in edges:\n",
    "        p_known = prob_of_known_fn(e,G)\n",
    "        score += payoffs[cooperate_and_know,defect]*p_known + payoffs[cooperate,defect]*(1 - p_known)\n",
    "    return score\n",
    "\n",
    "def get_average_mutual_neighbors_for_graph_type(N_nodes,p_edge,p,num_trials,create_graph_fn,random_number=True):\n",
    "    p_known, p_known_curr, mutual_neighbors, mutual_neighbors_curr,num_edges = 0.0,0.0,0.0,0.0,0.0\n",
    "    for i in range(num_trials):\n",
    "        G = create_graph_fn(N_nodes,p_edge,p_coop,random_number)\n",
    "        print len(G.nodes()), len(G.edges())\n",
    "        p_known_curr,mutual_neighbors_curr = get_average_p_known(G,prob_of_known_fn = lambda x,y: get_p_known(x,y,p))\n",
    "        p_known += p_known_curr\n",
    "        mutual_neighbors += mutual_neighbors_curr\n",
    "        num_edges += len(G.edges())\n",
    "    num_edges /= num_trials\n",
    "    p_known /= num_trials\n",
    "    mutual_neighbors /= num_trials\n",
    "    return p_known,mutual_neighbors,num_edges\n",
    "\n",
    "#This is the expected score per neighbor of a given node.\n",
    "def get_average_p_known(G,prob_of_known_fn= lambda x,y: 1.0):\n",
    "    p_known, p_known_curr, mutual_neighbors, mutual_neighbors_curr = 0.0,0.0,0.0,0.0\n",
    "    for n in G.nodes():\n",
    "        p_known_curr,mutual_neighbors_curr = add_p_known_for_single_node(G,n,prob_of_known_fn)    \n",
    "        p_known += p_known_curr\n",
    "        mutual_neighbors += mutual_neighbors_curr\n",
    "    p_known /= 2*len(G.edges())\n",
    "    mutual_neighbors /= 2*len(G.edges())\n",
    "    return p_known,mutual_neighbors\n",
    "        \n",
    "        \n",
    "def add_p_known_for_single_node(G,n,prob_of_known_fn):\n",
    "    p_known, p_known_curr, mutual_neighbors, mutual_neighbors_curr = 0.0,0.0,0.0,0.0\n",
    "    edges = G.edges([n])\n",
    "    if len(edges) == 0:\n",
    "        print 'no neighbors'\n",
    "        return 1.0,0.0\n",
    "    for e in edges:\n",
    "        p_known += prob_of_known_fn(e[::-1],G)\n",
    "        mutual_neighbors += len(set(G.neighbors(e[0])) & set(G.neighbors(e[1])))\n",
    "#     p_known /= len(edges)\n",
    "#     mutual_neighbors /= len(edges)\n",
    "    return p_known,mutual_neighbors\n",
    "\n",
    "def update_threshold(G,prob_of_known_fn = lambda x,y: 1.0):\n",
    "    for n in G.nodes():\n",
    "        num_edges = len(G.edges([n]))\n",
    "        if len(G.edges([n])) > 0:\n",
    "            p_known = add_p_known_for_single_node(G,n,prob_of_known_fn)[0]/len(G.edges([n]))\n",
    "        else:\n",
    "            p_known = 0\n",
    "        G.node[n]['threshold'] = 1.0/p_known if p_known > 0 else 1.0\n"
   ]
  },
  {
   "cell_type": "markdown",
   "metadata": {},
   "source": [
    "# A constant probability of gossip"
   ]
  },
  {
   "cell_type": "markdown",
   "metadata": {},
   "source": [
    "As a first case, let us assume that the value $p_{known}(i,j,G) = p_{known}$ is a constant. In this case, the new game represents essentially a transformation of the payoff matrix regarding expected returns."
   ]
  },
  {
   "cell_type": "markdown",
   "metadata": {},
   "source": [
    "We can compute the expected scores for cooperators and defectors as follows. Given a random graph, we expect on average $N p_{edge}$ neighbors, where $p_{edge}$ is the probability that a given edge exists. Now, for each of these neighbors, we have a fraction $p_{coop}$ of cooperators and the rest defectors. The payoff of encountering a defector ($-c$) is only realized when the identity of the defector is not known. This leads us to the following:\n",
    "$$E[score|C,p_{known}] = N p_{edge} \\left(p_{coop} (b - c) + (1 - p_{coop}) (1 - p_{known}) (-c)\\right)$$\n",
    "Similar reasoning gives:\n",
    "$$E[score|D,p_{known}] = N p_{edge} p_{coop}(1- p_{known}) b$$\n",
    "\n",
    "Setting these equal, we find the condition for stability between cooperative and defective strategies:\n",
    "\n",
    "$$p_{coop} = \\frac{ c (1 - p_{known})}{(b-c) p_{known}}$$\n",
    "\n",
    "or equivalently\n",
    "\n",
    "$$p_{known} = \\frac{1}{1 + p_{coop} \\left(\\frac{b-c}{c}\\right) }$$"
   ]
  },
  {
   "cell_type": "markdown",
   "metadata": {},
   "source": [
    ".Now let's create several graphs and compute the scores for different values of $p_{known}$, the probability that the identity of a neighbor is known."
   ]
  },
  {
   "cell_type": "code",
   "execution_count": 10,
   "metadata": {
    "collapsed": false
   },
   "outputs": [],
   "source": [
    "p_coop = 0.2\n",
    "N_nodes = 1000\n",
    "p_edge = 10.0/N_nodes\n",
    "p_range = np.linspace(0,1,num=10,endpoint=True)"
   ]
  },
  {
   "cell_type": "code",
   "execution_count": null,
   "metadata": {
    "collapsed": false
   },
   "outputs": [],
   "source": [
    "coop_score_range = zeros_like(p_range)\n",
    "def_score_range = zeros_like(p_range)\n",
    "for i,p in enumerate(p_range):\n",
    "    G = create_graph(N_nodes,p_edge,p_coop)\n",
    "    update_score(G,payoffs,lambda x,y: p)\n",
    "    scores = get_average_scores(G)\n",
    "    coop_score_range[i] = scores[0]\n",
    "    def_score_range[i] = scores[1]"
   ]
  },
  {
   "cell_type": "code",
   "execution_count": 266,
   "metadata": {
    "collapsed": false
   },
   "outputs": [
    {
     "data": {
      "text/plain": [
       "<matplotlib.legend.Legend at 0x85d4b10>"
      ]
     },
     "execution_count": 266,
     "metadata": {},
     "output_type": "execute_result"
    },
    {
     "data": {
      "image/png": "[encoded data removed]",
      "text/plain": [
       "<matplotlib.figure.Figure at 0x5892710>"
      ]
     },
     "metadata": {},
     "output_type": "display_data"
    }
   ],
   "source": [
    "plot(p_range,coop_score_range,'-og')\n",
    "plot(p_range,def_score_range,'-or')\n",
    "plot(p_range,expected_return_c(b,c,p_coop,p_edge,N_nodes,p_range),'--g',label=r'$E[score,C]$')\n",
    "plot(p_range,expected_return_d(b,c,p_coop,p_edge,N_nodes,p_range),'--r',label=r'$E[score,D]$')\n",
    "xlabel(r'$p_{known}$',size=20)\n",
    "ylabel(r'$score$',size=20)\n",
    "grid()\n",
    "axvline(1/(1 + p_coop*(b-c)/c))\n",
    "legend(loc = 'center left')"
   ]
  },
  {
   "cell_type": "markdown",
   "metadata": {},
   "source": [
    "Here we have plotted the the expected scores (both theoretical predictions and simulation results) for both defectors and cooperators. The red line represents the expected score for cooperators and the green line for defectors. The dashed lines are the theoretical predictions while the connected circles represent the simulation results. The blue line gives the theoretical prediction for the \"breakeven point\" when cooperators and defectors have the same payoff. We find that the expected return for cooperators increases as the gossip becomes better. This makes intuitive sense -- from a cooperators perspective, as the probability of knowing who is a defector increases, the exploitation by these defectors decreases."
   ]
  },
  {
   "cell_type": "markdown",
   "metadata": {},
   "source": [
    "We could also plot the expected returns as a function of the fraction of cooperators $p_{coop}$. For similar reasons, we find of course that the more cooperators there are, the more beneficial it is to be a cooperator."
   ]
  },
  {
   "cell_type": "code",
   "execution_count": 20,
   "metadata": {
    "collapsed": false
   },
   "outputs": [
    {
     "data": {
      "text/plain": [
       "<matplotlib.text.Text at 0x40c9b10>"
      ]
     },
     "execution_count": 20,
     "metadata": {},
     "output_type": "execute_result"
    },
    {
     "data": {
      "image/png": "[encoded data removed]",
      "text/plain": [
       "<matplotlib.figure.Figure at 0x3db2e90>"
      ]
     },
     "metadata": {},
     "output_type": "display_data"
    }
   ],
   "source": [
    "p_k = 0.4\n",
    "plot(p_range,expected_return_c(b,c,p_range,p_edge,N_nodes,p_k),'--g',label=r'$E[score,C]$')\n",
    "plot(p_range,expected_return_d(b,c,p_range,p_edge,N_nodes,p_k),'--r',label=r'$E[score,D]$')\n",
    "xlabel(r'$p_{coop}$',size=20)\n",
    "ylabel(r'$score$',size=20)\n",
    "grid()\n",
    "axvline(c/(b-c)*(1-p_k)/p_k)\n",
    "legend(loc = 'center left')\n",
    "title(r'$p_{known} = ' + str(p_k) + '$',size=20)"
   ]
  },
  {
   "cell_type": "markdown",
   "metadata": {},
   "source": [
    "# Structure dependent gossip"
   ]
  },
  {
   "cell_type": "markdown",
   "metadata": {},
   "source": [
    "Now we can let $p_{known}$ be a function of the graph structure itself. The intuition is that observations are made and gossip is transmitted throughout the social network. Therefore the probability of a correct transmission of information should depend on the local structure of the social network. One example dependence could be\n",
    "$$p_{known}(e,G) = \\frac{\\text{numMutualNeighbors}(e_0,e_1)}{N_{nodes}}$$\n",
    "We might also assume that gossip spreads probabilistically across the edges. In particular, assume every edge on the graph transmits gossip correctly with a probability $p$. The probability that a node \"knows\" another nodes reputation is given by the edge percolation probability between these two nodes on the graph. In our case we are only interested in sets of two nodes that are neighbors on the graph. This is a consequence of the fact that the \"game graph\" (i.e. who plays with whom) is the same as the \"social graph\" (i.e. who interacts with whom/who knows whom). This is a reasonable assumption, but one might also extend the problem to considering separate graphs for these two cases.\n",
    "\n",
    "Since the nodes in question are neighbors, the most likely (lowest order in $p$) contribution comes from knowing the neighbor directly. The next order is given by the transmission of information across neighbors (i.e. paths of length $2$), and so on. We can thus expand the percolation probability in the lowest orders and only consider the shortest paths (e.g. lengths $1$ and $2$) in our calculation. This also represents a reasonable assumption that gossip that has been transmitted across several nodes loses its value to be further transmitted, which reduces the weight of the longer paths in the computation of the probability even further. To lowest (zeroth) order we thus have\n",
    "$$p_{known}(e,G) = 1 - (1-p) = p$$\n",
    "and to first order \n",
    "$$p_{known}(e,G) = 1 - (1-p)(1-p^2)^{\\text{numMutualNeighbors}(e_0,e_1)}$$\n",
    "where $e$ denotes an ordered edge in the graph $G$ with start node $e_0$ and end node $e_1$. The chances that the information arrives is given by $1 - $ the probability that all transmissions fail. In the second formula, for example, this is the case when the transmission fails across the direct neighbor edge _and_ across all paths of length $2$. Note also that the lowest order approximation is equivalent to a constant $p_{known}$ throughout the graph, a case we discussed above. Moreover, this can be regarded as a purely direct reciprocity approach. We play with an individual, and with probability $p$ we have played with him before and accurately remember his strategy. The second equation actually involves gossip, referring to the flow of information across the network beyond just direct observation.\n",
    "\n"
   ]
  },
  {
   "cell_type": "markdown",
   "metadata": {},
   "source": [
    "## Erdos-Renyi Random Graph"
   ]
  },
  {
   "cell_type": "markdown",
   "metadata": {},
   "source": [
    "Let us now create several graphs and measure computationally the expected return for cooperators and defectors."
   ]
  },
  {
   "cell_type": "code",
   "execution_count": 30,
   "metadata": {
    "collapsed": false
   },
   "outputs": [],
   "source": [
    "p_coop = 0.5\n",
    "N_nodes = 1000\n",
    "p_edge = 1.0*100/N_nodes\n",
    "p_range = np.linspace(0,1,num=10,endpoint=True)\n",
    "coop_score_range1 = zeros_like(p_range)\n",
    "def_score_range1 = zeros_like(p_range)\n",
    "coop_score_range2 = zeros_like(p_range)\n",
    "def_score_range2 = zeros_like(p_range)\n",
    "for i,p in enumerate(p_range):\n",
    "    G = create_graph(N_nodes,p_edge,p_coop)\n",
    "    update_score(G,payoffs,lambda x,y: get_p_known_direct(x,y,p))\n",
    "    scores = get_average_scores(G)\n",
    "    coop_score_range1[i] = scores[0]\n",
    "    def_score_range1[i] = scores[1]\n",
    "    \n",
    "    G = create_graph(N_nodes,p_edge,p_coop)\n",
    "    update_score(G,payoffs,lambda x,y: get_p_known(x,y,p))\n",
    "    scores = get_average_scores(G)\n",
    "    coop_score_range2[i] = scores[0]\n",
    "    def_score_range2[i] = scores[1]"
   ]
  },
  {
   "cell_type": "code",
   "execution_count": 45,
   "metadata": {
    "collapsed": false
   },
   "outputs": [
    {
     "data": {
      "text/plain": [
       "<matplotlib.legend.Legend at 0x9ec16d0>"
      ]
     },
     "execution_count": 45,
     "metadata": {},
     "output_type": "execute_result"
    },
    {
     "data": {
      "image/png": "[encoded data removed]",
      "text/plain": [
       "<matplotlib.figure.Figure at 0x99c0f10>"
      ]
     },
     "metadata": {},
     "output_type": "display_data"
    }
   ],
   "source": [
    "plot(p_range,coop_score_range2,'-og')\n",
    "plot(p_range,def_score_range2,'-or')\n",
    "plot(p_range,expected_return_c(b,c,p_coop,p_edge,N_nodes,1-(1-p_range)*(1-p_range**2)**(p_edge**2*N_nodes)),'--g',label=r'$E[score,C]$ (first order)')\n",
    "plot(p_range,expected_return_d(b,c,p_coop,p_edge,N_nodes,1-(1-p_range)*(1-p_range**2)**(p_edge**2*N_nodes)),'--r',label=r'$E[score,D]$ (first order')\n",
    "plot(p_range,expected_return_c(b,c,p_coop,p_edge,N_nodes,p_range),'-g',label=r'$E[score,C]$ (zeroth order)')\n",
    "plot(p_range,expected_return_d(b,c,p_coop,p_edge,N_nodes,p_range),'-r',label=r'$E[score,D]$ (zeroth order)')\n",
    "xlabel(r'$p$',size=20)\n",
    "ylabel(r'score',size=15)\n",
    "grid()\n",
    "axvline(1/(1 + p_coop*(b-c)/c))\n",
    "legend(loc = (1,0.55))"
   ]
  },
  {
   "cell_type": "markdown",
   "metadata": {},
   "source": [
    "Above we try the case with the function\n",
    "$$p_{known}(e,G) = 1 - (1-p)(1-p^2)^{\\text{numMutualNeighbors}(e_0,e_1)}$$\n",
    "For an Erdos-Renyi, random graph like we have, we can approximate\n",
    "$$p_{known}(e,G) = E[1 - (1-p)(1-p^2)^{\\text{numMutualNeighbors}(e_0,e_1)}] \\approx 1 - (1-p)(1-p)^{E[\\text{numMutualNeighbors}(e_0,e_1)]}$$\n",
    "where\n",
    "$$E[\\text{numMutualNeighbors}(e_0,e_1)] \\approx p_{edge}^2N_{nodes}$$\n",
    "And thus, we get\n",
    "$$p_{known}(e,G) \\approx 1 - (1-p)(1-p^2)^{p_{edge}^2N_{nodes}}$$\n",
    "which we can then plug into our formulas for $E[score,C/D,p_{known}]$.\n",
    "This theoretical prediction is plotted in the above plot and agrees well with the computational results. We show also the zeroth order approximation where only direct reciprocity is considered. We find that gossip, even to its lowest approximation, significantly improves the score of cooperators and reduces the score of defectors dramatically.\n"
   ]
  },
  {
   "cell_type": "markdown",
   "metadata": {},
   "source": [
    "## Small World Graph and Scale Free Graph"
   ]
  },
  {
   "cell_type": "markdown",
   "metadata": {},
   "source": [
    "Now let us try out the same thing for different types of graphs. We expect that the structure of the graphs will have an impact on the relative payoffs for cooperators and defectors, since they affect how well the gossip spreads throughout the network."
   ]
  },
  {
   "cell_type": "raw",
   "metadata": {},
   "source": [
    " In particular, we consider in addition to the Erdos-Renyi random graph the Watts-Strogats ``small-world'' graph \\cite{watts1998collective}, as well as a model of a scale-free network \\cite{holme2002growing} with high clustening. Both of these graph types have been suggested more accurately represent social networks."
   ]
  },
  {
   "cell_type": "code",
   "execution_count": 16,
   "metadata": {
    "collapsed": false
   },
   "outputs": [],
   "source": []
  },
  {
   "cell_type": "code",
   "execution_count": 69,
   "metadata": {
    "collapsed": false
   },
   "outputs": [],
   "source": [
    "\n",
    "\n",
    "num_trials = 10\n",
    "p_coop = 0.3\n",
    "N_nodes = 100\n",
    "p_edge = 1.0*10/N_nodes\n",
    "p_range = np.linspace(0,1,num=10,endpoint=True)\n",
    "p_know_range = 1-(1-p_range)*(1-p_range**2)**(p_edge**2*N_nodes)\n",
    "coop_score_range = zeros_like(p_range)\n",
    "def_score_range = zeros_like(p_range)\n",
    "coop_score_range_sw = zeros_like(p_range)\n",
    "def_score_range_sw = zeros_like(p_range)\n",
    "coop_score_range_sf = zeros_like(p_range)\n",
    "def_score_range_sf = zeros_like(p_range)\n",
    "for i,p in enumerate(p_range):\n",
    "    coop_score_range[i],def_score_range[i] = get_average_scores_for_graph_type(N_nodes,p_edge,p_coop,p,num_trials,create_graph,random_number=False)\n",
    "    coop_score_range_sw[i],def_score_range_sw[i] = get_average_scores_for_graph_type(N_nodes,p_edge,p_coop,p,num_trials,create_small_world_graph,random_number=False)\n",
    "    coop_score_range_sf[i],def_score_range_sf[i] = get_average_scores_for_graph_type(N_nodes,p_edge,p_coop,p,num_trials,create_scale_free_graph,random_number=False)"
   ]
  },
  {
   "cell_type": "code",
   "execution_count": 70,
   "metadata": {
    "collapsed": false
   },
   "outputs": [
    {
     "data": {
      "text/plain": [
       "<matplotlib.legend.Legend at 0xcdecb90>"
      ]
     },
     "execution_count": 70,
     "metadata": {},
     "output_type": "execute_result"
    },
    {
     "data": {
      "image/png": "[encoded data removed]",
      "text/plain": [
       "<matplotlib.figure.Figure at 0x7bbd1d0>"
      ]
     },
     "metadata": {},
     "output_type": "display_data"
    }
   ],
   "source": [
    "p_know_range = 1-(1-p_range)*(1-p_range**2)**(p_edge**2*N_nodes)\n",
    "plot(p_range,coop_score_range,'-og')\n",
    "plot(p_range,def_score_range,'-or')\n",
    "plot(p_range,coop_score_range_sw,'-^g')\n",
    "plot(p_range,def_score_range_sw,'-^r')\n",
    "plot(p_range,coop_score_range_sf,'-+g')\n",
    "plot(p_range,def_score_range_sf,'-+r')\n",
    "plot(p_range,expected_return_c(b,c,p_coop,p_edge,N_nodes,p_know_range),'--g',label=r'$E[score,C]$ (first order)')\n",
    "plot(p_range,expected_return_d(b,c,p_coop,p_edge,N_nodes,p_know_range),'--r',label=r'$E[score,D]$ (first order')\n",
    "plot(p_range,expected_return_c(b,c,p_coop,p_edge,N_nodes,p_range),'-.g',label=r'$E[score,C]$ (zeroth order)')\n",
    "plot(p_range,expected_return_d(b,c,p_coop,p_edge,N_nodes,p_range),'-.r',label=r'$E[score,D]$ (zeroth order)')\n",
    "xlabel(r'$p$',size=20)\n",
    "ylabel(r'score',size=15)\n",
    "grid()\n",
    "axvline(1/(1 + p_coop*(b-c)/c))\n",
    "legend(loc = (1,0.55))"
   ]
  },
  {
   "cell_type": "markdown",
   "metadata": {},
   "source": [
    "Here again, we plot the scores for cooperators and defectors as a function of the parameter $p$. In particular, the dash-dotted line gives the theoretical payoffs without gossip (zeroth order). The dashed lines give the approximate theoretical prediction for the payoffs with first order gossip (i.e. gossip flowing only across common neighbors). The solid lines with circles, triangles, and pluses respectively represent Erdos-Renyi, Small-World, and Scale Free random graphs, respectively, with first order gossip.\n",
    "\n",
    "We find that for small world networks and in particular for highly-clustered small world, scale free networks, cooperation is strongly favored. This is because gossip can spread more easily on these graphs since nodes tend to be more clustered and have more common neighbors. The gossip allows the cooperators to obviate exploitation by the defectors and costs defectors much of their payoff. This shifts the intersection point where $E[score|D] = E[score|C]$ significantly.\n",
    "\n",
    "In summary, we find that including the effect of gossip significantly supports and stabilizes cooperative strategies. Moreover, scale-free and small-world networks -- highly clustered graphs that are known to approximate social networks well  -- have a particularly strong effect stabilizing cooperation."
   ]
  },
  {
   "cell_type": "markdown",
   "metadata": {},
   "source": [
    "## Nash Equilibrium Condition for All-C"
   ]
  },
  {
   "cell_type": "markdown",
   "metadata": {},
   "source": [
    "Finally, let us examine the stability of the situation where all strategies are cooperative. To this end, we consider the expected payoff on a graph where all nodes play $C$ and compare it to the expected payoff of a single defector on a graph where everybody else plays $C$.\n",
    "\n",
    "In this situation, we have\n",
    "$$E[score|D,i,G] = \\sum_{j \\in N(i)} (1 - p_{know}(i,j,G)) b$$\n",
    "where $N(i)$ is the set of direct neighbors of node $i$ (our single defector). Compare this to the expected payoff for a cooperator among all cooperators:\n",
    "$$E[score|C,i,G] = \\sum_{j \\in N(i)} (b - c) = N(i) (b - c)$$\n",
    "Comparing the two gives\n",
    "\\begin{eqnarray}\n",
    "\\sum_{j \\in N(i)} (1 - p_{know}(i,j,G)) b \\approx N(i) (1 - p_{know}(i,j,G)) = N(i) (b-c)\\\\\n",
    "\\end{eqnarray}\n",
    "Whence\n",
    "$$\\frac{c}{b} < p_{know}(i,j,G)$$\n",
    "Assuming that the expectation carries through linearly as we average over all graphs $G$:\n",
    "$$\\frac{c}{b} < p_{know}$$\n",
    "The above condition is the strict Nash equilibrium condition for the $C$ strategy. This condition is exact for a regular graph where $p_{know}$ is the same for every node. For other graphs, the results will vary because the expectation does not carry through linearly anymore (in particular, $p_{know}(i,j,G)$ is a nonlinear function of the local graph structure and thus its expectation over all graph instances will be complicated).\n",
    "\n",
    "To examine this condition numerically, we again simulate our game on several graphs and compute $E[score|D]$ in the limit of $p_{coop} \\to 1$."
   ]
  },
  {
   "cell_type": "code",
   "execution_count": 82,
   "metadata": {
    "collapsed": false
   },
   "outputs": [],
   "source": [
    "num_trials = 10\n",
    "p_coop = 1 - 1.0/N_nodes #0.995\n",
    "N_nodes = 400 #4000\n",
    "p_edge = 1.0*40/N_nodes #100/N_nodes\n",
    "p_range = np.linspace(0,1,num=10,endpoint=True)\n",
    "p_know_range = 1-(1-p_range)*(1-p_range**2)**(p_edge**2*N_nodes)\n",
    "coop_score_range = zeros_like(p_range)\n",
    "def_score_range = zeros_like(p_range)\n",
    "coop_score_range_sw = zeros_like(p_range)\n",
    "def_score_range_sw = zeros_like(p_range)\n",
    "coop_score_range_sf = zeros_like(p_range)\n",
    "def_score_range_sf = zeros_like(p_range)\n",
    "for i,p in enumerate(p_range):\n",
    "    def_score_range[i] = get_average_nash_scores_for_graph_type(N_nodes,p_edge,p_coop,p,num_trials,create_graph,random_number=False)\n",
    "    def_score_range_sw[i] = get_average_nash_scores_for_graph_type(N_nodes,p_edge,p_coop,p,num_trials,create_small_world_graph,random_number=False)\n",
    "    def_score_range_sf[i] = get_average_nash_scores_for_graph_type(N_nodes,p_edge,p_coop,p,num_trials,create_scale_free_graph,random_number=False)"
   ]
  },
  {
   "cell_type": "code",
   "execution_count": 83,
   "metadata": {
    "collapsed": false
   },
   "outputs": [
    {
     "data": {
      "text/plain": [
       "<matplotlib.text.Text at 0xa6ea290>"
      ]
     },
     "execution_count": 83,
     "metadata": {},
     "output_type": "execute_result"
    },
    {
     "data": {
      "image/png": "[encoded data removed]",
      "text/plain": [
       "<matplotlib.figure.Figure at 0xca5db90>"
      ]
     },
     "metadata": {},
     "output_type": "display_data"
    }
   ],
   "source": [
    "p_know_range = 1-(1-p_range)*(1-p_range**2)**(p_edge**2*N_nodes)\n",
    "k = N_nodes*p_edge\n",
    "\n",
    "plot(k_range,def_score_range/k,'-or',label='Sim. $E[\\mathrm{payoff}|D]$ (first order, Erdos-Renyi)')\n",
    "plot(k_range,def_score_range_sw/k,'-^r',label='Sim. $E[\\mathrm{payoff}|D]$ (first order, Small World)')\n",
    "plot(k_range,def_score_range_sf/k,'-sr',label='Sim. $E[\\mathrm{payoff}|D]$ (first order, Scale Free)')\n",
    "\n",
    "plot(k_range,expected_return_d(b,c,p_coop,p_edge_range,N_nodes,p_know_range)/k,'--r',label=r'Th. $E[\\mathrm{payoff}|D]$ (first order)')\n",
    "plot(k_range,expected_return_d(b,c,p_coop,p_edge_range,N_nodes,p_range)/k,'-.r',label=r'Th. $E[\\mathrm{payoff}|D]$ (zeroth order)')\n",
    "plot(k_range,expected_return_c(b,c,p_coop,p_edge_range,N_nodes,p_know_range)/k,'--g',label=r'Th. $E[\\mathrm{payoff}|C]$')xlabel(r'$p$',size=20)\n",
    "ylabel(r'$\\frac{E[\\mathrm{payoff}]}{k}$',size=20)\n",
    "grid()\n",
    "axvline(1/(1 + p_coop*(b-c)/c),color='k')\n",
    "axvline(0.18)\n",
    "legend(loc = (1,0.55))\n",
    "ylim([0,b])\n",
    "title(r'$p_{edge} = ' + str(p_edge) + '$, $N_{nodes} = ' + str(N_nodes) + '$')"
   ]
  },
  {
   "cell_type": "markdown",
   "metadata": {},
   "source": [
    "Above we plot again the payoffs for cooperators and defectors in the limit of sparse defectors. The lines have the same meansing as in the previous section. The defector score will approach the Nash equilibrium situation where a single defector plays against all cooperators, while the cooperator score will aproach the all-$C$ situation. We plot a vertical blue line at the lowest value of $p$ satisfying the theoretical Nash equilibrium condition $\\frac{c}{b} = p_{know}$ where we take $p_{known}(e,G) \\approx 1 - (1-p)(1-p^2)^{p_{edge}^2N_{nodes}}$. For clarity we plot this function in the lower figure, together with a cross at the values for which $p_{know}(p) = b/c = 0.25$. The lower figure shows clearly, as one would expect, that gossip strictly improves $p_{know}$. We also plot a vertical black line giving the theoretical Nash equilibrium condition for the case without gossip: $\\frac{c}{b} = p_{know} = p$\n",
    "\n",
    "In the upper figure we find that the theoretical prediction accurately fits the simulation results. The payoffs cross close to where the blue line predicts for the Erdos-Renyi random graph. Overall the results with gossip show a lower threshold for $p$ than for direct reciprocity (black line, \"zeroth order gossip\"). Gossip makes it easier to stabilize cooperation. Moreover, we find again that social-network graphs have an even stronger effect. The Nash equilibrium condition is less stringent on $p$ using these graphs. This means that gossip and common social network structures both stabilize cooperative strategies significantly. "
   ]
  },
  {
   "cell_type": "markdown",
   "metadata": {},
   "source": [
    "# More connections, more cooperation"
   ]
  },
  {
   "cell_type": "markdown",
   "metadata": {},
   "source": [
    "Let us now examine the effect of the number of neighbors on the relative payoffs. We can use the same procedure as earlier, but vary $p_{edge}$ this time.\n",
    "Using the condition $\\frac{c}{b} < p_{know} \\approx 1 - (1-p)(1-p^2)^{p_{edge}^2N_{nodes}}$, we can solve for $p_{edge}$ and obtain\n",
    "$$p_{edge} \\gt \\sqrt{\\frac{1}{N}  \\left(\\frac{log(1 - \\frac{c}{b}) - log(1 - p)}{log(1 - p^2)}\\right)}$$"
   ]
  },
  {
   "cell_type": "code",
   "execution_count": 31,
   "metadata": {
    "collapsed": false
   },
   "outputs": [
    {
     "name": "stdout",
     "output_type": "stream",
     "text": [
      "1000 3523\n",
      "1000 3519\n",
      "no neighbors\n",
      "1000 3452\n",
      "no neighbors\n",
      "1000 3491\n",
      "1000 3497\n",
      "1000 3000\n",
      "1000 3000\n",
      "1000 3000\n",
      "1000 3000\n",
      "1000 3000\n",
      "1000 2990\n",
      "1000 2990\n",
      "1000 2991\n",
      "1000 2991\n",
      "1000 2991\n",
      "1000 8734\n",
      "1000 8901\n",
      "1000 8671\n",
      "1000 8905\n",
      "1000 8732\n",
      "1000 8000\n",
      "1000 8000\n",
      "1000 8000\n",
      "1000 8000\n",
      "1000 8000\n",
      "1000 7934\n",
      "1000 7934\n",
      "1000 7930\n",
      "1000 7934\n",
      "1000 7933\n",
      "1000 17811\n",
      "1000 17730\n",
      "1000 17599\n",
      "1000 17829\n",
      "1000 17634\n",
      "1000 17000\n",
      "1000 17000\n",
      "1000 17000\n",
      "1000 17000\n",
      "1000 17000\n",
      "1000 16710\n",
      "1000 16711\n",
      "1000 16711\n",
      "1000 16711\n",
      "1000 16710\n",
      "1000 35408\n",
      "1000 35313\n",
      "1000 35405\n",
      "1000 35344\n",
      "1000 35331\n",
      "1000 35000\n",
      "1000 35000\n",
      "1000 35000\n",
      "1000 35000\n",
      "1000 35000\n",
      "1000 33775\n",
      "1000 33775\n",
      "1000 33774\n",
      "1000 33775\n",
      "1000 33772\n",
      "1000 70410\n",
      "1000 70741\n",
      "1000 70607\n",
      "1000 70703\n",
      "1000 70867\n",
      "1000 70000\n",
      "1000 70000\n",
      "1000 70000\n",
      "1000 70000\n",
      "1000 70000\n",
      "1000 65081\n",
      "1000 65092\n",
      "1000 65093\n",
      "1000 65095\n",
      "1000 65085\n",
      "1000 106005\n",
      "1000 106422\n",
      "1000 105757\n",
      "1000 106324\n",
      "1000 105515\n",
      "1000 106000\n",
      "1000 106000\n",
      "1000 106000\n",
      "1000 106000\n",
      "1000 106000\n",
      "1000 94759\n",
      "1000 94762\n",
      "1000 94758\n",
      "1000 94759\n",
      "1000 94762\n",
      "1000 141580\n",
      "1000 141306\n",
      "1000 141525\n",
      "1000 141402\n",
      "1000 140717\n",
      "1000 141000\n",
      "1000 141000\n",
      "1000 141000\n",
      "1000 141000\n",
      "1000 141000\n",
      "1000 121116\n",
      "1000 121117\n",
      "1000 121116\n",
      "1000 121119\n",
      "1000 121119\n",
      "1000 3524\n",
      "no neighbors\n",
      "1000 3546\n",
      "no neighbors\n",
      "no neighbors\n",
      "no neighbors\n",
      "1000 3588\n",
      "no neighbors\n",
      "1000 3520\n",
      "1000 3577\n",
      "1000 3000\n",
      "1000 3000\n",
      "1000 3000\n",
      "1000 3000\n",
      "1000 3000\n",
      "1000 2991\n",
      "1000 2991\n",
      "1000 2990\n",
      "1000 2991\n",
      "1000 2991\n",
      "1000 8953\n",
      "1000 8779\n",
      "1000 8776\n",
      "1000 8798\n",
      "1000 8807\n",
      "1000 8000\n",
      "1000 8000\n",
      "1000 8000\n",
      "1000 8000\n",
      "1000 8000\n",
      "1000 7933\n",
      "1000 7935\n",
      "1000 7931\n",
      "1000 7936\n",
      "1000 7932\n",
      "1000 17584\n",
      "1000 17541\n",
      "1000 17761\n",
      "1000 17764\n",
      "1000 17696\n",
      "1000 17000\n",
      "1000 17000\n",
      "1000 17000\n",
      "1000 17000\n",
      "1000 17000\n",
      "1000 16709\n",
      "1000 16711\n",
      "1000 16710\n",
      "1000 16711\n",
      "1000 16711\n",
      "1000 35330\n",
      "1000 35539\n",
      "1000 35538\n",
      "1000 35286\n",
      "1000 35210\n",
      "1000 35000\n",
      "1000 35000\n",
      "1000 35000\n",
      "1000 35000\n",
      "1000 35000\n",
      "1000 33767\n",
      "1000 33775\n",
      "1000 33774\n",
      "1000 33768\n",
      "1000 33770\n",
      "1000 70804\n",
      "1000 70468\n",
      "1000 70698\n",
      "1000 70576\n",
      "1000 70845\n",
      "1000 70000\n",
      "1000 70000\n",
      "1000 70000\n",
      "1000 70000\n",
      "1000 70000\n",
      "1000 65091\n",
      "1000 65082\n",
      "1000 65093\n",
      "1000 65098\n",
      "1000 65091\n",
      "1000 106496\n",
      "1000 105799\n",
      "1000 106185\n",
      "1000 105884\n",
      "1000 105828\n",
      "1000 106000\n",
      "1000 106000\n",
      "1000 106000\n",
      "1000 106000\n",
      "1000 106000\n",
      "1000 94758\n",
      "1000 94756\n",
      "1000 94762\n",
      "1000 94755\n",
      "1000 94756\n",
      "1000 140766\n",
      "1000 141275\n",
      "1000 141036\n",
      "1000 141133\n",
      "1000 141189\n",
      "1000 141000\n",
      "1000 141000\n",
      "1000 141000\n",
      "1000 141000\n",
      "1000 141000\n",
      "1000 121119\n",
      "1000 121119\n",
      "1000 121114\n",
      "1000 121118\n",
      "1000 121118\n",
      "1000 3605\n",
      "1000 3454\n",
      "1000 3499\n",
      "1000 3605\n",
      "no neighbors\n",
      "no neighbors\n",
      "1000 3503\n",
      "no neighbors\n",
      "1000 3000\n",
      "1000 3000\n",
      "1000 3000\n",
      "1000 3000\n",
      "1000 3000\n",
      "1000 2990\n",
      "1000 2991\n",
      "1000 2991\n",
      "1000 2990\n",
      "1000 2990\n",
      "1000 8851\n",
      "1000 8845\n",
      "1000 8595\n",
      "1000 8825\n",
      "1000 8982\n",
      "1000 8000\n",
      "1000 8000\n",
      "1000 8000\n",
      "1000 8000\n",
      "1000 8000\n",
      "1000 7934\n",
      "1000 7933\n",
      "1000 7933\n",
      "1000 7935\n",
      "1000 7936\n",
      "1000 17791\n",
      "1000 17566\n",
      "1000 17720\n",
      "1000 17614\n",
      "1000 17764\n",
      "1000 17000\n",
      "1000 17000\n",
      "1000 17000\n",
      "1000 17000\n",
      "1000 17000\n",
      "1000 16710\n",
      "1000 16710\n",
      "1000 16711\n",
      "1000 16710\n",
      "1000 16709\n",
      "1000 35360\n",
      "1000 35280\n",
      "1000 35303\n",
      "1000 35508\n",
      "1000 35543\n",
      "1000 35000\n",
      "1000 35000\n",
      "1000 35000\n",
      "1000 35000\n",
      "1000 35000\n",
      "1000 33774\n",
      "1000 33775\n",
      "1000 33773\n",
      "1000 33769\n",
      "1000 33772\n",
      "1000 70638\n",
      "1000 70270\n",
      "1000 70783\n",
      "1000 70566\n",
      "1000 70823\n",
      "1000 70000\n",
      "1000 70000\n",
      "1000 70000\n",
      "1000 70000\n",
      "1000 70000\n",
      "1000 65092\n",
      "1000 65085\n",
      "1000 65097\n",
      "1000 65093\n",
      "1000 65098\n",
      "1000 105931\n",
      "1000 105987\n",
      "1000 105369\n",
      "1000 105503\n",
      "1000 106272\n",
      "1000 106000\n",
      "1000 106000\n",
      "1000 106000\n",
      "1000 106000\n",
      "1000 106000\n",
      "1000 94758\n",
      "1000 94760\n",
      "1000 94759\n",
      "1000 94753\n",
      "1000 94756\n",
      "1000 141710\n",
      "1000 141391\n",
      "1000 141424\n",
      "1000 141158\n",
      "1000 141376\n",
      "1000 141000\n",
      "1000 141000\n",
      "1000 141000\n",
      "1000 141000\n",
      "1000 141000\n",
      "1000 121117\n",
      "1000 121118\n",
      "1000 121119\n",
      "1000 121118\n",
      "1000 121117\n"
     ]
    }
   ],
   "source": [
    "p_trial_range = array([0.05,0.2,0.6])\n",
    "close('all')\n",
    "for j,p in enumerate(p_trial_range):\n",
    "    num_trials_default = 5\n",
    "    N_nodes = 1000\n",
    "    p_coop = 1 - 1.0/N_nodes\n",
    "    p_edge_range = array([0.1,0.25,0.5,1,2,3,4])*sqrt(5.0/N_nodes)#array([0.1,0.25,0.5,1,2,3,4])*sqrt(5.0/N_nodes)\n",
    "    num_trials_array = num_trials_default*ones_like(p_edge_range)\n",
    "    # num_trials_array[0:3] *= 5\n",
    "    # num_trials_array[0:1] *= 5\n",
    "    p_know_range_th = get_p_known_first_order(p_edge_range**2*N_nodes,p)\n",
    "    p_know_range = zeros_like(p_edge_range)\n",
    "    p_know_range_sw = zeros_like(p_edge_range)\n",
    "    p_know_range_sf = zeros_like(p_edge_range)\n",
    "    mutual_neighbors_range = zeros_like(p_edge_range)\n",
    "    mutual_neighbors_range_sw = zeros_like(p_edge_range)\n",
    "    mutual_neighbors_range_sf = zeros_like(p_edge_range)\n",
    "    num_edges_range = zeros_like(p_edge_range)\n",
    "    num_edges_range_sw = zeros_like(p_edge_range)\n",
    "    num_edges_range_sf = zeros_like(p_edge_range)\n",
    "\n",
    "\n",
    "\n",
    "    for i,p_edge in enumerate(p_edge_range):\n",
    "        num_trials = int(round(num_trials_array[i]))\n",
    "        p_know_range[i],mutual_neighbors_range[i],num_edges_range[i] = get_average_mutual_neighbors_for_graph_type(N_nodes,p_edge,p,num_trials,create_graph,random_number=False)\n",
    "        p_know_range_sw[i],mutual_neighbors_range_sw[i],num_edges_range_sw[i] = get_average_mutual_neighbors_for_graph_type(N_nodes,p_edge,p,num_trials,create_small_world_graph,random_number=False)\n",
    "        p_know_range_sf[i],mutual_neighbors_range_sf[i],num_edges_range_sf[i] = get_average_mutual_neighbors_for_graph_type(N_nodes,p_edge,p,num_trials,create_scale_free_graph,random_number=False)\n",
    "\n",
    "    k_range_th = N_nodes*p_edge_range\n",
    "    \n",
    "    #plotting\n",
    "    figure()\n",
    "    k_range = 2.0*num_edges_range/N_nodes\n",
    "    k_range_sw = 2.0*num_edges_range_sw/N_nodes\n",
    "    k_range_sf = 2.0*num_edges_range_sf/N_nodes\n",
    "\n",
    "    # plot(k_range,def_score_range,'-or',label='Sim. $E[\\mathrm{payoff}|D]$ (first order, Erdos-Renyi)')\n",
    "    # plot(k_range,def_score_range_sw,'-^r',label='Sim. $E[\\mathrm{payoff}|D]$ (first order, Small World)')\n",
    "    # plot(k_range,def_score_range_sf,'-sr',label='Sim. $E[\\mathrm{payoff}|D]$ (first order, Scale Free)')\n",
    "    # plot(k_range,expected_return_d(b,c,p_coop,p_edge_range,N_nodes,p_know_range_th)/k_range,'--r',label=r'Th. $E[\\mathrm{payoff}|D]$ (first order)')\n",
    "    # plot(k_range,expected_return_d(b,c,p_coop,p_edge_range,N_nodes,p)/k_range,'-.r',label=r'Th. $E[\\mathrm{payoff}|D]$ (zeroth order)')\n",
    "    # plot(k_range,expected_return_c(b,c,p_coop,p_edge_range,N_nodes,p_know_range_th)/k_range,'--g',label=r'Th. $E[\\mathrm{payoff}|C]$')\n",
    "\n",
    "    # plot(k_range,expected_return_d(b,c,p_coop,p_edge_range,N_nodes,p_know_range)/k_range,'--k',label=r'Th. $E[\\mathrm{payoff}|D]$ (first order)')\n",
    "    # plot(k_range,expected_return_d(b,c,p_coop,p_edge_range,N_nodes,get_p_known_first_order(mutual_neighbors_range,p))/k_range,'--b',label=r'Th. $E[\\mathrm{payoff}|D]$ (first order)')\n",
    "\n",
    "    # plot(k_range,expected_return_d(b,c,p_coop,p_edge_range,N_nodes,p_know_range_sw)/k_range,'--k',label=r'Th. $E[\\mathrm{payoff}|D]$ (first order)')\n",
    "    # plot(k_range,expected_return_d(b,c,p_coop,p_edge_range,N_nodes,get_p_known_first_order(mutual_neighbors_range_sw,p))/k_range,'--b',label=r'Th. $E[\\mathrm{payoff}|D]$ (first order)')\n",
    "\n",
    "\n",
    "    # plot(k_range,expected_return_d(b,c,p_coop,p_edge_range,N_nodes,p_know_range_sf)/k_range,'--k',label=r'Th. $E[\\mathrm{payoff}|D]$ (first order)')\n",
    "    # plot(k_range,expected_return_d(b,c,p_coop,p_edge_range,N_nodes,get_p_known_first_order(mutual_neighbors_range_sf,p))/k_range,'--b',label=r'Th. $E[\\mathrm{payoff}|D]$ (first order)')\n",
    "    axhline(1/p,color = 'k',label=r'Th. $\\left(b/c\\right)_{critical}$ (zeroth order)')\n",
    "\n",
    "    plot(k_range_th,1/p_know_range_th,'--k',label=r'Th. $\\left(b/c\\right)_{critical}$ (first order)')\n",
    "\n",
    "    plot(k_range,1/p_know_range,'-ob',label=r'Sim. $\\left(b/c\\right)_{critical}$ (first order, Erdos-Renyi)')\n",
    "    plot(k_range_sw,1/p_know_range_sw,'-^r',label=r'Sim. $\\left(b/c\\right)_{critical}$ (first order, Small World)')\n",
    "    plot(k_range_sf,1/p_know_range_sf,'-sg',label=r'Sim. $\\left(b/c\\right)_{critical}$ (first order, Clustered Scale Free)')\n",
    "\n",
    "    #plot as a function of mutual neighbors:\n",
    "    # plot(k_range_th**2/N_nodes,1/p_know_range_th,'--r',label=r'Th. $\\left(b/c\\right)_{critical}$ (first order)')\n",
    "\n",
    "    # plot(mutual_neighbors_range,1/p_know_range,'-ob',label=r'Sim. $\\left(b/c\\right)_{critical}$ (first order, Erdos-Renyi)')\n",
    "    # plot(mutual_neighbors_range_sw,1/p_know_range_sw,'-^b',label=r'Sim. $\\left(b/c\\right)_{critical}$ (first order, Small World)')\n",
    "    # plot(mutual_neighbors_range_sf,1/p_know_range_sf,'-sb',label=r'Sim. $\\left(b/c\\right)_{critical}$ (first order, Scale Free)')\n",
    "\n",
    "\n",
    "\n",
    "    #plot with mutual neighbors\n",
    "    # plot(k_range,1/get_p_known_first_order(mutual_neighbors_range,p),'--or',label=r'Sim. $\\left(b/c\\right)_{critical}$ (first order, Erdos-Renyi)')\n",
    "    # plot(k_range_sw,1/get_p_known_first_order(mutual_neighbors_range_sw,p),'--^r',label=r'Sim. $\\left(b/c\\right)_{critical}$ (first order, Small World)')\n",
    "    # plot(k_range_sf,1/get_p_known_first_order(mutual_neighbors_range_sf,p),'--sr',label=r'Sim. $\\left(b/c\\right)_{critical}$ (first order, Scale Free)')\n",
    "\n",
    "\n",
    "    xlabel(r'$k = N_{nodes} p_{edge}$',size=20)\n",
    "    ylabel(r'$\\left(\\frac{b}{c}\\right)_{critical}$',size=20)\n",
    "    grid()\n",
    "    #axhline(N_nodes*sqrt(1.0/N_nodes*(log(1-1.0*c/b) - log(1- p))/log(1-p**2)))\n",
    "    if j == len(p_trial_range)-1:\n",
    "        legend(loc = (1.02,0.63))\n",
    "    title(r'$p = ' + str(p) + '$, $N_{nodes} = ' + str(N_nodes) + '$',size=20)\n",
    "    ylim(1,1.1/p)\n",
    "    #savefig('b_c_critical_vs_k_p' +  str(p) + '.png',bbox_inches='tight')"
   ]
  },
  {
   "cell_type": "code",
   "execution_count": 68,
   "metadata": {
    "collapsed": false
   },
   "outputs": [],
   "source": [
    "close()\n",
    "k_range = 2.0*num_edges_range/N_nodes\n",
    "k_range_sw = 2.0*num_edges_range_sw/N_nodes\n",
    "k_range_sf = 2.0*num_edges_range_sf/N_nodes\n",
    "\n",
    "# plot(k_range,def_score_range,'-or',label='Sim. $E[\\mathrm{payoff}|D]$ (first order, Erdos-Renyi)')\n",
    "# plot(k_range,def_score_range_sw,'-^r',label='Sim. $E[\\mathrm{payoff}|D]$ (first order, Small World)')\n",
    "# plot(k_range,def_score_range_sf,'-sr',label='Sim. $E[\\mathrm{payoff}|D]$ (first order, Scale Free)')\n",
    "# plot(k_range,expected_return_d(b,c,p_coop,p_edge_range,N_nodes,p_know_range_th)/k_range,'--r',label=r'Th. $E[\\mathrm{payoff}|D]$ (first order)')\n",
    "# plot(k_range,expected_return_d(b,c,p_coop,p_edge_range,N_nodes,p)/k_range,'-.r',label=r'Th. $E[\\mathrm{payoff}|D]$ (zeroth order)')\n",
    "# plot(k_range,expected_return_c(b,c,p_coop,p_edge_range,N_nodes,p_know_range_th)/k_range,'--g',label=r'Th. $E[\\mathrm{payoff}|C]$')\n",
    "\n",
    "# plot(k_range,expected_return_d(b,c,p_coop,p_edge_range,N_nodes,p_know_range)/k_range,'--k',label=r'Th. $E[\\mathrm{payoff}|D]$ (first order)')\n",
    "# plot(k_range,expected_return_d(b,c,p_coop,p_edge_range,N_nodes,get_p_known_first_order(mutual_neighbors_range,p))/k_range,'--b',label=r'Th. $E[\\mathrm{payoff}|D]$ (first order)')\n",
    "\n",
    "# plot(k_range,expected_return_d(b,c,p_coop,p_edge_range,N_nodes,p_know_range_sw)/k_range,'--k',label=r'Th. $E[\\mathrm{payoff}|D]$ (first order)')\n",
    "# plot(k_range,expected_return_d(b,c,p_coop,p_edge_range,N_nodes,get_p_known_first_order(mutual_neighbors_range_sw,p))/k_range,'--b',label=r'Th. $E[\\mathrm{payoff}|D]$ (first order)')\n",
    "\n",
    "\n",
    "# plot(k_range,expected_return_d(b,c,p_coop,p_edge_range,N_nodes,p_know_range_sf)/k_range,'--k',label=r'Th. $E[\\mathrm{payoff}|D]$ (first order)')\n",
    "# plot(k_range,expected_return_d(b,c,p_coop,p_edge_range,N_nodes,get_p_known_first_order(mutual_neighbors_range_sf,p))/k_range,'--b',label=r'Th. $E[\\mathrm{payoff}|D]$ (first order)')\n",
    "axhline(1/p,color = 'k',label=r'Th. $\\left(b/c\\right)_{critical}$ (zeroth order)')\n",
    "\n",
    "plot(k_range_th,1/p_know_range_th,'--k',label=r'Th. $\\left(b/c\\right)_{critical}$ (first order)')\n",
    "\n",
    "plot(k_range,1/p_know_range,'-ob',label=r'Sim. $\\left(b/c\\right)_{critical}$ (first order, Erdos-Renyi)')\n",
    "plot(k_range_sw,1/p_know_range_sw,'-^r',label=r'Sim. $\\left(b/c\\right)_{critical}$ (first order, Small World)')\n",
    "plot(k_range_sf,1/p_know_range_sf,'-sg',label=r'Sim. $\\left(b/c\\right)_{critical}$ (first order, Clustered Scale Free)')\n",
    "\n",
    "#plot as a function of mutual neighbors:\n",
    "# plot(k_range_th**2/N_nodes,1/p_know_range_th,'--r',label=r'Th. $\\left(b/c\\right)_{critical}$ (first order)')\n",
    "\n",
    "# plot(mutual_neighbors_range,1/p_know_range,'-ob',label=r'Sim. $\\left(b/c\\right)_{critical}$ (first order, Erdos-Renyi)')\n",
    "# plot(mutual_neighbors_range_sw,1/p_know_range_sw,'-^b',label=r'Sim. $\\left(b/c\\right)_{critical}$ (first order, Small World)')\n",
    "# plot(mutual_neighbors_range_sf,1/p_know_range_sf,'-sb',label=r'Sim. $\\left(b/c\\right)_{critical}$ (first order, Scale Free)')\n",
    "\n",
    "\n",
    "\n",
    "#plot with mutual neighbors\n",
    "# plot(k_range,1/get_p_known_first_order(mutual_neighbors_range,p),'--or',label=r'Sim. $\\left(b/c\\right)_{critical}$ (first order, Erdos-Renyi)')\n",
    "# plot(k_range_sw,1/get_p_known_first_order(mutual_neighbors_range_sw,p),'--^r',label=r'Sim. $\\left(b/c\\right)_{critical}$ (first order, Small World)')\n",
    "# plot(k_range_sf,1/get_p_known_first_order(mutual_neighbors_range_sf,p),'--sr',label=r'Sim. $\\left(b/c\\right)_{critical}$ (first order, Scale Free)')\n",
    "\n",
    "\n",
    "xlabel(r'$k = N_{nodes} p_{edge}$',size=20)\n",
    "ylabel(r'$\\left(\\frac{b}{c}\\right)_{critical}$',size=20)\n",
    "grid()\n",
    "#axhline(N_nodes*sqrt(1.0/N_nodes*(log(1-1.0*c/b) - log(1- p))/log(1-p**2)))\n",
    "legend(loc=(0.25,0.32))#legend(loc = (1.02,0.63))\n",
    "title(r'$p = ' + str(p) + '$, $N_{nodes} = ' + str(N_nodes) + '$',size=20)\n",
    "ylim(1,1.1/p)\n",
    "#savefig('b_c_critical_vs_k_p0.6_shifted_legend.png',bbox_inches='tight')"
   ]
  },
  {
   "cell_type": "markdown",
   "metadata": {},
   "source": [
    "The lines in the plot have the same meaning as in the earlier plots. However, everything is plotted as a function of $p_{edge}$ this time. For the zeroth-order case, the payoff both depends linearly on the number of neighbors and thus on $p_{edge}$. Since we chose $p = 0.2 = p_{know} < \\frac{c}{b}$, defectors will always be favored here. However, for the first-order case, gossip gets more efficient  with increasing $p_{edge}$ ($p_{know}$ rises, as illustrated in the lower figure). Therefore, as we increase the number of neighbors for a given graph, the payoffs for cooperators rise and those for defectors fall (relative to the naive linear dependence on $n_{neighbors}$). Again, the theoretical prediction for the Nash equilibrium condition is plotted in blue and agrees well with the simulation results. With sufficient connectivity, cooperation becomes stable, and the effect is more pronounced for the social network like graphs. The key insight is that with gossip, additional neighbors and connections in the network stabilize cooperation, while this is not the case for direct reciprocity without gossip."
   ]
  },
  {
   "cell_type": "markdown",
   "metadata": {},
   "source": [
    "# Future Work"
   ]
  },
  {
   "cell_type": "markdown",
   "metadata": {},
   "source": [
    "We have presented a work in progress. In the following, we outline several of the possible next steps.\n",
    "\n",
    "- It will be important to improve upon the analytical work regarding the expectations for the payoff. We have made some quite crude approximations and it will be important to either find better approximations or justify the level of accuracy of the approximations that we have made.\n",
    "- In order to try our results on social-network graphs, we have employed some external graph generators that are known to represent social network structures well. However, there are several other graph types (like regular lattices, other small world networks, trees, etc.) that we have yet to try out.\n",
    "- We have only used the lowest order approximation to the flow of gossip (i.e. across nearest neighbors). In reality, gossip can be transmitted (albeit strongly suppressed) across an arbitrary degree. While higher order in the approximation (i.e. using gossip paths of length $2$ or longer) should not qualitatively affect the results, it will be insightful to consider the effect of allowing more complex flow of information. There will likely be some percolation limit to which the increasingly higher order approximations will converge.\n",
    "- So far, we have only dealt with the static situation of a single round in the game and the resulting payoffs. A next step will be to extend this to evolutionary game dynamics and study the effect of gossip on the evolution of cooperation in that context.\n",
    "- Finally, we might reverse the question about causality. We have found that certain graph structures (e.g. tightly knit and highly clustered graphs) stabilize cooperation through gossip very efficiently. We might consider a model where the graph structure is dependent on the underlying strategy set of the nodes and see whether cooperation-favoring structures emerge and evolve naturally."
   ]
  },
  {
   "cell_type": "markdown",
   "metadata": {},
   "source": [
    "# Acknowledgements"
   ]
  },
  {
   "cell_type": "markdown",
   "metadata": {},
   "source": [
    "We thank Prof. Martin Nowak for guidance and helpful discussions, as well as Ben Adlam for his support."
   ]
  },
  {
   "cell_type": "raw",
   "metadata": {},
   "source": [
    "\\bibliographystyle{plain}\n",
    "\\bibliography{references}"
   ]
  },
  {
   "cell_type": "code",
   "execution_count": 31,
   "metadata": {
    "collapsed": false
   },
   "outputs": [
    {
     "data": {
      "text/plain": [
       "30"
      ]
     },
     "execution_count": 31,
     "metadata": {},
     "output_type": "execute_result"
    }
   ],
   "source": [
    "int(round(29.51))"
   ]
  },
  {
   "cell_type": "markdown",
   "metadata": {},
   "source": [
    "Abstract: background of study. First few references. Begin with general introduction, most of the references from there.\n",
    "\n",
    "References: indirect reciprocity, spatial games, direct reciprocity.\n",
    "$b/c > k$ is for unconditional cooperators and spatial selection, not \n",
    "\n",
    "Background, more references after the abstract.\n",
    "\n",
    "Only few display equations, a few inline.\n",
    "\n",
    "Add an appendix in which the\n",
    "\n",
    "Should p and p^2 be separate parameters:\n",
    "$$1 - (1-p)(1- p q)^n$$\n",
    "\n",
    "$P(e,G) = P_{ij}(n_{ij})$\n",
    "\n",
    "$N = N_{nodes}$\n",
    "$q = p$\n",
    "$p = p_{edge}$\n",
    "$(b/c)* = (b/c)_{critical}$\n",
    "In the figures\n",
    "Average degree, $k$\n",
    "Title, just $p$, put $N$ in the legend.\n",
    "\n",
    "Nature selling points:\n",
    "- single parameter model\n",
    "    - captures all the issues of complexity and strategy in the simple concept of \"correctness\"\n",
    "- more connectivity is better\n",
    "- real results are strictly better\n",
    "    - more social graphs than prediction\n",
    "    - more gossip than prediction\n",
    "- b/c > k for unconditional cooperators. What about highly connected populations? Gossip can support the evolution of cooperation. We might want to show how much gossip can change the b/c > k rule.\n",
    "- Show our predictions for different graphs as a function of the clustering coefficient\n",
    "- Simple prediction $b/c > 1/P$"
   ]
  },
  {
   "cell_type": "code",
   "execution_count": null,
   "metadata": {
    "collapsed": false
   },
   "outputs": [],
   "source": []
  }
 ],
 "metadata": {
  "kernelspec": {
   "display_name": "Python 2",
   "language": "python",
   "name": "python2"
  },
  "language_info": {
   "codemirror_mode": {
    "name": "ipython",
    "version": 2
   },
   "file_extension": ".py",
   "mimetype": "text/x-python",
   "name": "python",
   "nbconvert_exporter": "python",
   "pygments_lexer": "ipython2",
   "version": "2.7.3"
  }
 },
 "nbformat": 4,
 "nbformat_minor": 0
}
